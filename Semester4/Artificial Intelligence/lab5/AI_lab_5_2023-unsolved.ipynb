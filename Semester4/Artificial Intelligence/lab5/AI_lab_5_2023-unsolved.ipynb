{
 "cells": [
  {
   "cell_type": "markdown",
   "id": "b8210b19",
   "metadata": {},
   "source": [
    "## A.I. Assignment 5\n",
    "\n",
    "## Learning Goals\n",
    "\n",
    "By the end of this lab, you should be able to:\n",
    "* Get more familiar with tensors in pytorch \n",
    "* Create a simple multilayer perceptron model with pytorch\n",
    "* Visualise the parameters\n",
    "\n",
    "\n",
    "### Task\n",
    "\n",
    "Build a fully connected feed forward network that adds two bits. Determine the a propper achitecture for this network (what database you use for this problem? how many layers? how many neurons on each layer? what is the activation function? what is the loss function? etc)\n",
    "\n",
    "Create at least 3 such networks and compare their performance (how accurate they are?, how farst they are trained to get at 1 accuracy?)\n",
    "\n",
    "Display for the best one the weights for each layer.\n"
   ]
  },
  {
   "cell_type": "code",
   "execution_count": 54,
   "id": "e3614e5f",
   "metadata": {},
   "outputs": [],
   "source": [
    "import torch\n",
    "import torch.nn as nn\n",
    "from collections import OrderedDict\n"
   ]
  },
  {
   "cell_type": "code",
   "execution_count": 55,
   "id": "17268864",
   "metadata": {
    "scrolled": true
   },
   "outputs": [
    {
     "name": "stdout",
     "output_type": "stream",
     "text": [
      "tensor([[0., 0.],\n",
      "        [0., 1.],\n",
      "        [1., 0.],\n",
      "        [1., 1.]])\n",
      "tensor([[0., 0.],\n",
      "        [0., 1.],\n",
      "        [0., 1.],\n",
      "        [1., 0.]])\n"
     ]
    }
   ],
   "source": [
    "data_in = torch.tensor([[0, 0], [0, 1], [1, 0], [1, 1]]).float()\n",
    "data_target = torch.tensor([[0, 0], [0, 1], [0, 1], [1, 0]]).reshape(-1, 2).float()\n",
    "print(data_in)\n",
    "print(data_target)"
   ]
  },
  {
   "cell_type": "code",
   "execution_count": 56,
   "id": "b24133ac",
   "metadata": {},
   "outputs": [],
   "source": [
    "def test_model(model, criterion, optimizer, accuracy_function):\n",
    "    EPOCHS = 10000\n",
    "    for i in range(EPOCHS):\n",
    "        output = model(data_in)\n",
    "        loss = criterion(output, data_target)\n",
    "        optimizer.zero_grad()\n",
    "        loss.backward()\n",
    "        optimizer.step()\n",
    "        if (i + 1) % 1000 == 0:\n",
    "            print(f'Epoch [{i+1}/{EPOCHS}], Loss: {loss.item():.4f}')\n",
    "    print(f\"Accuracy {accuracy_function(model)}\")"
   ]
  },
  {
   "cell_type": "code",
   "execution_count": 57,
   "id": "5ee7e7d7",
   "metadata": {},
   "outputs": [
    {
     "name": "stdout",
     "output_type": "stream",
     "text": [
      "Epoch [1000/10000], Loss: 0.5832\n",
      "Epoch [2000/10000], Loss: 0.4974\n",
      "Epoch [3000/10000], Loss: 0.4232\n",
      "Epoch [4000/10000], Loss: 0.3668\n",
      "Epoch [5000/10000], Loss: 0.3275\n",
      "Epoch [6000/10000], Loss: 0.3031\n",
      "Epoch [7000/10000], Loss: 0.2880\n",
      "Epoch [8000/10000], Loss: 0.2782\n",
      "Epoch [9000/10000], Loss: 0.2715\n",
      "Epoch [10000/10000], Loss: 0.2666\n",
      "Accuracy 0.875\n"
     ]
    }
   ],
   "source": [
    "# your code here\n",
    "model1 = nn.Sequential(OrderedDict([\n",
    "    ('hidden', nn.Linear(data_in.shape[1], 1)),\n",
    "    ('hidden_activation', nn.Sigmoid()),\n",
    "    ('output', nn.Linear(1, data_target.shape[1]))\n",
    "]))\n",
    "criterion1 = torch.nn.BCEWithLogitsLoss()\n",
    "optimizer1 = torch.optim.SGD(model1.parameters(), lr=0.1)\n",
    "def accuracy_function1(model):\n",
    "    with torch.no_grad():\n",
    "        output = torch.nn.Sigmoid()(model(data_in))\n",
    "        predicted = (output >= 0.5)\n",
    "        accuracy = (predicted == data_target).float().mean()\n",
    "        return accuracy\n",
    "\n",
    "test_model(model1, criterion1, optimizer1, accuracy_function1)"
   ]
  },
  {
   "cell_type": "code",
   "execution_count": 58,
   "id": "69d920ed",
   "metadata": {},
   "outputs": [
    {
     "name": "stdout",
     "output_type": "stream",
     "text": [
      "Epoch [1000/10000], Loss: 0.5384\n",
      "Epoch [2000/10000], Loss: 0.4477\n",
      "Epoch [3000/10000], Loss: 0.3776\n",
      "Epoch [4000/10000], Loss: 0.3279\n",
      "Epoch [5000/10000], Loss: 0.2751\n",
      "Epoch [6000/10000], Loss: 0.1603\n",
      "Epoch [7000/10000], Loss: 0.0872\n",
      "Epoch [8000/10000], Loss: 0.0566\n",
      "Epoch [9000/10000], Loss: 0.0414\n",
      "Epoch [10000/10000], Loss: 0.0325\n",
      "Accuracy 1.0\n"
     ]
    }
   ],
   "source": [
    "# your code here\n",
    "model2 = nn.Sequential(OrderedDict([\n",
    "    ('hidden', nn.Linear(data_in.shape[1], 2)),\n",
    "    ('hidden_activation', nn.Sigmoid()),\n",
    "    ('output', nn.Linear(2, data_target.shape[1]))\n",
    "]))\n",
    "criterion2 = torch.nn.BCEWithLogitsLoss()\n",
    "optimizer2 = torch.optim.SGD(model2.parameters(), lr=0.1)\n",
    "def accuracy_function2(model):\n",
    "    with torch.no_grad():\n",
    "        output = torch.nn.Sigmoid()(model(data_in))\n",
    "        predicted = (output >= 0.5)\n",
    "        accuracy = (predicted == data_target).float().mean()\n",
    "        return accuracy\n",
    "\n",
    "test_model(model2, criterion2, optimizer2, accuracy_function2)"
   ]
  },
  {
   "cell_type": "code",
   "execution_count": 59,
   "id": "cde91f6f",
   "metadata": {},
   "outputs": [
    {
     "name": "stdout",
     "output_type": "stream",
     "text": [
      "Epoch [1000/10000], Loss: 0.1878\n",
      "Epoch [2000/10000], Loss: 0.0378\n",
      "Epoch [3000/10000], Loss: 0.0177\n",
      "Epoch [4000/10000], Loss: 0.0113\n",
      "Epoch [5000/10000], Loss: 0.0082\n",
      "Epoch [6000/10000], Loss: 0.0064\n",
      "Epoch [7000/10000], Loss: 0.0052\n",
      "Epoch [8000/10000], Loss: 0.0044\n",
      "Epoch [9000/10000], Loss: 0.0038\n",
      "Epoch [10000/10000], Loss: 0.0034\n",
      "Accuracy 1.0\n"
     ]
    }
   ],
   "source": [
    "# your code here\n",
    "model3 = nn.Sequential(OrderedDict([\n",
    "    ('hidden', nn.Linear(data_in.shape[1], 2)),\n",
    "    ('hidden_activation', nn.ReLU()),\n",
    "    ('output', nn.Linear(2, data_target.shape[1]))\n",
    "]))\n",
    "criterion3 = torch.nn.BCEWithLogitsLoss()\n",
    "optimizer3 = torch.optim.SGD(model3.parameters(), lr=0.1)\n",
    "def accuracy_function3(model):\n",
    "    with torch.no_grad():\n",
    "        output = torch.nn.Sigmoid()(model(data_in))\n",
    "        predicted = (output >= 0.5)\n",
    "        accuracy = (predicted == data_target).float().mean()\n",
    "        return accuracy\n",
    "\n",
    "test_model(model3, criterion3, optimizer3, accuracy_function3)"
   ]
  },
  {
   "cell_type": "code",
   "execution_count": 63,
   "id": "dff3ec1a",
   "metadata": {},
   "outputs": [
    {
     "name": "stdout",
     "output_type": "stream",
     "text": [
      "Parameter containing:\n",
      "tensor([[-4.8102, -4.8085],\n",
      "        [-5.5543, -5.5529]], requires_grad=True)\n",
      "Parameter containing:\n",
      "tensor([1.8795, 8.2186], requires_grad=True)\n",
      "Parameter containing:\n",
      "tensor([[ 0.0375, -9.5520],\n",
      "        [-7.8532,  6.9181]], requires_grad=True)\n",
      "Parameter containing:\n",
      "tensor([ 4.0679, -3.0676], requires_grad=True)\n"
     ]
    }
   ],
   "source": [
    "print(model2[0].weight)\n",
    "print(model2[0].bias)\n",
    "print(model2[2].weight)\n",
    "print(model2[2].bias)"
   ]
  },
  {
   "cell_type": "code",
   "execution_count": null,
   "id": "523c3289",
   "metadata": {},
   "outputs": [],
   "source": []
  },
  {
   "cell_type": "code",
   "execution_count": null,
   "id": "5c8f434a",
   "metadata": {},
   "outputs": [],
   "source": []
  }
 ],
 "metadata": {
  "kernelspec": {
   "display_name": "Python 3 (ipykernel)",
   "language": "python",
   "name": "python3"
  },
  "language_info": {
   "codemirror_mode": {
    "name": "ipython",
    "version": 3
   },
   "file_extension": ".py",
   "mimetype": "text/x-python",
   "name": "python",
   "nbconvert_exporter": "python",
   "pygments_lexer": "ipython3",
   "version": "3.11.0"
  }
 },
 "nbformat": 4,
 "nbformat_minor": 5
}
