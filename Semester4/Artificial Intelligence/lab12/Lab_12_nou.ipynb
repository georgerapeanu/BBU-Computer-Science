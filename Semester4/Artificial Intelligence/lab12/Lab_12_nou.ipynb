{
 "cells": [
  {
   "cell_type": "markdown",
   "metadata": {},
   "source": [
    "## Lab. 12\n",
    "\n",
    "### Solve the following problem using Genetic Algorithms:\n",
    "\n",
    "\n",
    "Problem: Weighted N-Queen Problem\n",
    "\n",
    "\n",
    "You are given an N×N chessboard, and each cell of the board has an associated weight. Your task is to find a valid placement of N queens such that the total weight of the queens is maximized, and no two queens threaten each other.\n",
    "\n"
   ]
  },
  {
   "cell_type": "markdown",
   "metadata": {},
   "source": [
    "\n",
    "\n",
    "In the traditional N-Queen Problem, the goal is to place N queens on an N×N chessboard in such a way that no two queens threaten each other. In this variation, we introduce weights to the queens and aim to find a placement that maximizes the total weight of the queens while satisfying the constraint of non-threatening positions.\n",
    "\n",
    "\n",
    "Constraints:\n",
    "\n",
    "1. There should be exactly one queen in each row and each column.\n",
    "2. No two queens should be placed in the same diagonal, i.e., they should not threaten each other.\n",
    "3. The placement should maximize the total weight of the queens.\n",
    "\n",
    "\n",
    "Representation:\n",
    "\n",
    "Use a permutation-based representation. Each permutation represents the column position of the queen for each row. \n",
    "\n",
    "For example, if N=4, a valid permutation [2, 4, 1, 3] indicates that the queen in the first row is placed in column 2, the queen in the second row is placed in column 4, and so on.\n",
    "\n",
    "\n",
    "Genetic Algorithm Steps:\n",
    "\n",
    "1. *Initialization*: Generate an initial population of permutations randomly.\n",
    "\n",
    "2. *Fitness Evaluation*: Evaluate the fitness of each permutation by calculating the total weight of the queens while considering the non-threatening positions.\n",
    "\n",
    "3. *Selection*: Select a subset of permutations from the population based on their fitness, using selection techniques like tournament selection or roulette wheel selection.\n",
    "\n",
    "4. *Crossover*: Perform crossover (recombination) on the selected permutations to create new offspring permutations.\n",
    "\n",
    "5. *Mutation*: Introduce random changes (mutations) in the offspring permutations to maintain diversity in the population.\n",
    "\n",
    "6. *Fitness Evaluation for the new individuals*: Evaluate the fitness of the new population.\n",
    "\n",
    "7. *Form the new population*: Select the surviving individuals based on scores, with chances direct proportional with their performance.\n",
    "\n",
    "8. Repeat steps 3-7 for a certain number of generations or until a termination condition is met (e.g., a maximum number of iterations or a satisfactory solution is found).\n",
    "\n",
    "\n",
    "9. *Termination*: Return the best-performing individual (permutation) found as the solution to the problem.\n",
    "\n",
    "Note: The fitness function used in this problem should calculate the total weight of the queens based on the positions specified by the permutation. Additionally, the fitness function should penalize solutions that violate the non-threatening constraint by assigning a lower fitness score to such permutations."
   ]
  },
  {
   "cell_type": "code",
   "execution_count": 1,
   "metadata": {},
   "outputs": [],
   "source": [
    "import numpy as np\n",
    "import random\n",
    "random.seed(42)"
   ]
  },
  {
   "cell_type": "code",
   "execution_count": 2,
   "metadata": {},
   "outputs": [],
   "source": [
    "# 1. Initialization: Generate an initial population of permutations randomly."
   ]
  },
  {
   "cell_type": "code",
   "execution_count": 3,
   "metadata": {},
   "outputs": [],
   "source": [
    "def initialize_individual(num_features):\n",
    "    return np.random.permutation(num_features)"
   ]
  },
  {
   "cell_type": "code",
   "execution_count": 4,
   "metadata": {},
   "outputs": [],
   "source": [
    "def initialize_population(num_individuals, num_features):\n",
    "    return np.array([initialize_individual(num_features) for _ in range(num_individuals)])"
   ]
  },
  {
   "cell_type": "code",
   "execution_count": 5,
   "metadata": {},
   "outputs": [],
   "source": [
    "# 2. Fitness function"
   ]
  },
  {
   "cell_type": "code",
   "execution_count": 6,
   "metadata": {},
   "outputs": [],
   "source": [
    "def fitness(weights, individual):\n",
    "    used_first_diag = {}\n",
    "    used_secondary_diag = {}\n",
    "    answer_sum = 0\n",
    "    for i in range(individual.shape[0]):\n",
    "        secondary_diag = i + individual[i]\n",
    "        first_diag = i - individual[i]\n",
    "        \n",
    "        if first_diag in used_first_diag:\n",
    "            return 0\n",
    "    \n",
    "        if secondary_diag in used_secondary_diag:\n",
    "            return 0\n",
    "        \n",
    "        used_first_diag[first_diag] = 1\n",
    "        used_secondary_diag[secondary_diag] = 1\n",
    "        answer_sum += weights[i][individual[i]] \n",
    "    return answer_sum"
   ]
  },
  {
   "cell_type": "code",
   "execution_count": 7,
   "metadata": {},
   "outputs": [],
   "source": [
    "# 3. Selection: Select a subset of permutations from the population based on their fitness, using selection techniques like tournament selection or roulette wheel selection."
   ]
  },
  {
   "cell_type": "code",
   "execution_count": 8,
   "metadata": {},
   "outputs": [],
   "source": [
    "def selection(weights, individuals):\n",
    "    fitnesses = np.array([fitness(weights, individual) for individual in individuals]) + 1\n",
    "    probabilities = fitnesses / fitnesses.max(axis = 0)\n",
    "    selected = []\n",
    "    for i in range(individuals.shape[0]):\n",
    "        if random.random() < probabilities[i]:\n",
    "            selected.append(individuals[i])\n",
    "    return np.array(selected)"
   ]
  },
  {
   "cell_type": "code",
   "execution_count": 9,
   "metadata": {},
   "outputs": [],
   "source": [
    "# 4. Crossover: Perform crossover (recombination) on the selected permutations to create new offspring permutations."
   ]
  },
  {
   "cell_type": "code",
   "execution_count": 10,
   "metadata": {},
   "outputs": [],
   "source": [
    "def crossover(individuals):\n",
    "    indexes = np.random.choice(individuals.shape[0], size = 2, replace=False)\n",
    "    child = np.zeros(individuals[indexes[0]].shape[0]).astype(int)\n",
    "    for i in range(individuals[indexes[0]].shape[0]):\n",
    "        child[i] = individuals[indexes[0]][individuals[indexes[1]][i]]\n",
    "    return child"
   ]
  },
  {
   "cell_type": "code",
   "execution_count": 11,
   "metadata": {},
   "outputs": [],
   "source": [
    "def mutation(individual, mutation_rate):\n",
    "    if random.random() > mutation_rate:\n",
    "        return individual\n",
    "    indexes = np.random.choice(individual.shape[0], size = 2, replace=False)\n",
    "    individual[indexes[0]], individual[indexes[1]] = individual[indexes[1]], individual[indexes[0]]\n",
    "    return individual"
   ]
  },
  {
   "cell_type": "code",
   "execution_count": 12,
   "metadata": {},
   "outputs": [],
   "source": [
    "# 5. New generation"
   ]
  },
  {
   "cell_type": "code",
   "execution_count": 13,
   "metadata": {},
   "outputs": [],
   "source": [
    "def get_new_generation(weights, individuals, mutation_rate):\n",
    "    selected = selection(weights, individuals)\n",
    "    new_generation = [individual for individual in selected]\n",
    "    for _ in range(selected.shape[0], individuals.shape[0]):\n",
    "        new_generation.append(np.array(mutation(crossover(selected), mutation_rate)))\n",
    "    return np.array(new_generation)"
   ]
  },
  {
   "cell_type": "code",
   "execution_count": 14,
   "metadata": {},
   "outputs": [],
   "source": [
    "def run_simulation(generations, number_individuals, weights, mutation_rate):\n",
    "    individuals = initialize_population(number_individuals, weights.shape[0])\n",
    "    for i in range(generations):\n",
    "        if i % 100 == 0:\n",
    "            print(f\"Done {i} generations\")\n",
    "        individuals = get_new_generation(weights, individuals, mutation_rate)\n",
    "    fitnesses = np.array([fitness(weights, individual) for individual in individuals])\n",
    "    return individuals[np.argmax(fitnesses)]"
   ]
  },
  {
   "cell_type": "code",
   "execution_count": 15,
   "metadata": {},
   "outputs": [
    {
     "name": "stdout",
     "output_type": "stream",
     "text": [
      "Done 0 generations\n",
      "Done 100 generations\n",
      "Done 200 generations\n",
      "Done 300 generations\n",
      "Done 400 generations\n",
      "Done 500 generations\n",
      "Done 600 generations\n",
      "Done 700 generations\n",
      "Done 800 generations\n",
      "Done 900 generations\n",
      "Weights are [[0.6585542  0.55335553 0.44421979 0.17016157 0.33621469 0.13683486\n",
      "  0.19484077 0.88792893]\n",
      " [0.11938745 0.9857908  0.08157033 0.150415   0.52857048 0.1656298\n",
      "  0.49696026 0.18396474]\n",
      " [0.15082843 0.43304817 0.99184061 0.63821969 0.36397058 0.01370438\n",
      "  0.1786056  0.01875787]\n",
      " [0.08811026 0.19913192 0.85940048 0.2121148  0.11074434 0.14398915\n",
      "  0.75549625 0.49297283]\n",
      " [0.35035719 0.39279588 0.86137736 0.4159755  0.21646818 0.59628952\n",
      "  0.05490519 0.11413058]\n",
      " [0.78751648 0.96959183 0.55843531 0.62841272 0.91015495 0.56127921\n",
      "  0.33403186 0.22283275]\n",
      " [0.93974558 0.43247203 0.60229986 0.40813285 0.89507899 0.0061502\n",
      "  0.93492284 0.30684439]\n",
      " [0.99440203 0.70901533 0.78207569 0.68977643 0.40915722 0.17382153\n",
      "  0.84559464 0.18244333]]\n",
      "Found [2 4 1 7 5 3 6 0] found with fitness 5.052838386419951\n"
     ]
    }
   ],
   "source": [
    "weights = np.random.rand(8, 8)\n",
    "best = run_simulation(1000, 1000, weights, 0.1)\n",
    "print(f\"Weights are {weights}\")\n",
    "print(f\"Found {best} found with fitness {fitness(weights, best)}\")"
   ]
  },
  {
   "cell_type": "code",
   "execution_count": null,
   "metadata": {},
   "outputs": [],
   "source": []
  }
 ],
 "metadata": {
  "kernel_info": {
   "name": "python"
  },
  "kernelspec": {
   "display_name": "Python 3 (ipykernel)",
   "language": "python",
   "name": "python3"
  },
  "language_info": {
   "codemirror_mode": {
    "name": "ipython",
    "version": 3
   },
   "file_extension": ".py",
   "mimetype": "text/x-python",
   "name": "python",
   "nbconvert_exporter": "python",
   "pygments_lexer": "ipython3",
   "version": "3.10.10"
  },
  "nteract": {
   "version": "nteract-front-end@1.0.0"
  }
 },
 "nbformat": 4,
 "nbformat_minor": 2
}
