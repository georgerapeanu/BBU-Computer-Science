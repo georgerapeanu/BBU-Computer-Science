{
 "cells": [
  {
   "cell_type": "code",
   "execution_count": 9,
   "id": "1f6f4796",
   "metadata": {},
   "outputs": [
    {
     "data": {
      "text/plain": [
       "(_C + erf(t))*e^(-t)"
      ]
     },
     "execution_count": 9,
     "metadata": {},
     "output_type": "execute_result"
    }
   ],
   "source": [
    "t=var('t')\n",
    "x=function('x')(t)\n",
    "desolve((diff(x, 1) + x)==(2/sqrt(pi))*e**(-t**2-t),x)"
   ]
  },
  {
   "cell_type": "code",
   "execution_count": 12,
   "id": "be69bdcf",
   "metadata": {},
   "outputs": [
    {
     "data": {
      "text/plain": [
       "-1/2*I*sqrt(pi)*erf(I*t)"
      ]
     },
     "execution_count": 12,
     "metadata": {},
     "output_type": "execute_result"
    }
   ],
   "source": [
    "integrate(e**(t**2),t)"
   ]
  },
  {
   "cell_type": "code",
   "execution_count": 15,
   "id": "cdb100d1",
   "metadata": {},
   "outputs": [
    {
     "data": {
      "text/plain": [
       "1/2*sqrt(pi)*erf(t)"
      ]
     },
     "execution_count": 15,
     "metadata": {},
     "output_type": "execute_result"
    }
   ],
   "source": [
    "integrate(2/sqrt(pi)*e**(-t**2),t)"
   ]
  },
  {
   "cell_type": "code",
   "execution_count": null,
   "id": "5c2c938d",
   "metadata": {},
   "outputs": [],
   "source": []
  }
 ],
 "metadata": {
  "kernelspec": {
   "display_name": "SageMath 9.5",
   "language": "sage",
   "name": "sagemath"
  },
  "language_info": {
   "codemirror_mode": {
    "name": "ipython",
    "version": 3
   },
   "file_extension": ".py",
   "mimetype": "text/x-python",
   "name": "python",
   "nbconvert_exporter": "python",
   "pygments_lexer": "ipython3",
   "version": "3.8.10"
  }
 },
 "nbformat": 4,
 "nbformat_minor": 5
}
