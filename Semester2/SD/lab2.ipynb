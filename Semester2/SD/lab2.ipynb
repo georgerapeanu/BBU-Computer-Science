{
 "cells": [
  {
   "cell_type": "code",
   "execution_count": 7,
   "id": "ba53cf5a",
   "metadata": {},
   "outputs": [
    {
     "data": {
      "text/plain": [
       "_C*e^t"
      ]
     },
     "execution_count": 7,
     "metadata": {},
     "output_type": "execute_result"
    }
   ],
   "source": [
    "t = var('t')\n",
    "x = function('x')(t)\n",
    "desolve(diff(x,1) == x, x)"
   ]
  },
  {
   "cell_type": "code",
   "execution_count": 18,
   "id": "04f9d2b2",
   "metadata": {},
   "outputs": [
    {
     "data": {
      "text/plain": [
       "[-cos(t) + 1, 'variationofparameters']"
      ]
     },
     "execution_count": 18,
     "metadata": {},
     "output_type": "execute_result"
    }
   ],
   "source": [
    "desolve(diff(x,2) + x == 1, x, ics=[0, 0, 0], show_method=True)"
   ]
  },
  {
   "cell_type": "code",
   "execution_count": null,
   "id": "9a53eb6e",
   "metadata": {},
   "outputs": [],
   "source": []
  },
  {
   "cell_type": "code",
   "execution_count": null,
   "id": "f33ce802",
   "metadata": {},
   "outputs": [],
   "source": []
  }
 ],
 "metadata": {
  "kernelspec": {
   "display_name": "SageMath 9.5",
   "language": "sage",
   "name": "sagemath"
  },
  "language_info": {
   "codemirror_mode": {
    "name": "ipython",
    "version": 3
   },
   "file_extension": ".py",
   "mimetype": "text/x-python",
   "name": "python",
   "nbconvert_exporter": "python",
   "pygments_lexer": "ipython3",
   "version": "3.8.10"
  }
 },
 "nbformat": 4,
 "nbformat_minor": 5
}
