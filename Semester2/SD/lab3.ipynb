{
 "cells": [
  {
   "cell_type": "code",
   "execution_count": 1,
   "id": "85c3bf32",
   "metadata": {},
   "outputs": [
    {
     "data": {
      "text/plain": [
       "(_C + erf(t))*e^(-t)"
      ]
     },
     "execution_count": 1,
     "metadata": {},
     "output_type": "execute_result"
    }
   ],
   "source": [
    "t=var('t')\n",
    "x=function('x')(t)\n",
    "desolve((diff(x, 1) + x)==(2/sqrt(pi))*e**(-t**2-t),x)"
   ]
  },
  {
   "cell_type": "code",
   "execution_count": 2,
   "id": "6fa1fd89",
   "metadata": {},
   "outputs": [
    {
     "data": {
      "text/plain": [
       "-1/2*I*sqrt(pi)*erf(I*t)"
      ]
     },
     "execution_count": 2,
     "metadata": {},
     "output_type": "execute_result"
    }
   ],
   "source": [
    "integrate(e**(t**2),t)"
   ]
  },
  {
   "cell_type": "code",
   "execution_count": 3,
   "id": "2f39837b",
   "metadata": {},
   "outputs": [
    {
     "data": {
      "text/plain": [
       "erf(t)"
      ]
     },
     "execution_count": 3,
     "metadata": {},
     "output_type": "execute_result"
    }
   ],
   "source": [
    "integrate(2/sqrt(pi)*e**(-t**2),t)"
   ]
  },
  {
   "cell_type": "code",
   "execution_count": 4,
   "id": "cb6f2e80",
   "metadata": {},
   "outputs": [
    {
     "data": {
      "text/plain": [
       "_K2*e^(-1/2*t*(sqrt(5) + 3)) + _K1*e^(1/2*t*(sqrt(5) - 3)) + 1"
      ]
     },
     "execution_count": 4,
     "metadata": {},
     "output_type": "execute_result"
    }
   ],
   "source": [
    "desolve(diff(x,2) + 3 * diff(x,1) + x == 1, x)"
   ]
  },
  {
   "cell_type": "code",
   "execution_count": 5,
   "id": "69dad852",
   "metadata": {},
   "outputs": [],
   "source": [
    "sol(t) = desolve(diff(x,2) + 3 * diff(x,1) + x == 1, x)\n"
   ]
  },
  {
   "cell_type": "code",
   "execution_count": 6,
   "id": "813a051a",
   "metadata": {},
   "outputs": [
    {
     "data": {
      "text/plain": [
       "t |--> ((_K1*e^sqrt(5) + _K2)*e^(1/2) + e^(1/2*sqrt(5) + 2))*e^(-1/2*sqrt(5) - 2)"
      ]
     },
     "execution_count": 6,
     "metadata": {},
     "output_type": "execute_result"
    }
   ],
   "source": [
    "limit(sol, t=1)"
   ]
  },
  {
   "cell_type": "code",
   "execution_count": 7,
   "id": "f7462012",
   "metadata": {},
   "outputs": [],
   "source": [
    "f=piecewise([((0,pi),t),((pi, infinity),pi*e**(t-pi))])"
   ]
  },
  {
   "cell_type": "code",
   "execution_count": 8,
   "id": "059ad206",
   "metadata": {},
   "outputs": [
    {
     "data": {
      "text/plain": [
       "t"
      ]
     },
     "execution_count": 8,
     "metadata": {},
     "output_type": "execute_result"
    }
   ],
   "source": [
    "desolve(diff(x, 2) + x == t, x, ics=[0, 0, 1])"
   ]
  },
  {
   "cell_type": "code",
   "execution_count": 9,
   "id": "ee6b872d",
   "metadata": {},
   "outputs": [
    {
     "data": {
      "text/plain": [
       "-1/2*pi*cos(t) + 1/2*pi*e^(-pi + t) + 1/2*pi*sin(t)"
      ]
     },
     "execution_count": 9,
     "metadata": {},
     "output_type": "execute_result"
    }
   ],
   "source": [
    "desolve(diff(x, 2) + x == pi*e**(t-pi), x, ics=[pi, pi, 0])"
   ]
  },
  {
   "cell_type": "code",
   "execution_count": 10,
   "id": "daa06c4e",
   "metadata": {},
   "outputs": [],
   "source": [
    "ans = piecewise([((0,pi), desolve(diff(x, 2) + x == t, x, ics=[0, 0, 1])),((pi, infinity), desolve(diff(x, 2) + x == pi*e**(t-pi), x, ics=[pi, pi, 0]))])"
   ]
  },
  {
   "cell_type": "code",
   "execution_count": 11,
   "id": "5c982d45",
   "metadata": {},
   "outputs": [
    {
     "data": {
      "image/png": "[encoded data removed]",
      "text/plain": [
       "Graphics object consisting of 1 graphics primitive"
      ]
     },
     "execution_count": 11,
     "metadata": {},
     "output_type": "execute_result"
    }
   ],
   "source": [
    "plot(ans,0,10)"
   ]
  },
  {
   "cell_type": "code",
   "execution_count": null,
   "id": "eec2d676",
   "metadata": {},
   "outputs": [],
   "source": []
  }
 ],
 "metadata": {
  "kernelspec": {
   "display_name": "SageMath 9.5",
   "language": "sage",
   "name": "sagemath"
  },
  "language_info": {
   "codemirror_mode": {
    "name": "ipython",
    "version": 3
   },
   "file_extension": ".py",
   "mimetype": "text/x-python",
   "name": "python",
   "nbconvert_exporter": "python",
   "pygments_lexer": "ipython3",
   "version": "3.8.10"
  }
 },
 "nbformat": 4,
 "nbformat_minor": 5
}
