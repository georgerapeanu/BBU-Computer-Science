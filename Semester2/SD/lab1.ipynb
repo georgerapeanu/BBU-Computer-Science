{
 "cells": [
  {
   "cell_type": "markdown",
   "id": "a784f8df",
   "metadata": {},
   "source": [
    "# Excercise 1"
   ]
  },
  {
   "cell_type": "code",
   "execution_count": 1,
   "id": "ae2b0e5b",
   "metadata": {},
   "outputs": [
    {
     "data": {
      "text/plain": [
       "1/2"
      ]
     },
     "execution_count": 1,
     "metadata": {},
     "output_type": "execute_result"
    }
   ],
   "source": [
    "1/2"
   ]
  },
  {
   "cell_type": "code",
   "execution_count": 2,
   "id": "0e000c50",
   "metadata": {},
   "outputs": [
    {
     "data": {
      "text/plain": [
       "e"
      ]
     },
     "execution_count": 2,
     "metadata": {},
     "output_type": "execute_result"
    }
   ],
   "source": [
    "exp(1)"
   ]
  },
  {
   "cell_type": "code",
   "execution_count": 3,
   "id": "33d10305",
   "metadata": {},
   "outputs": [
    {
     "data": {
      "text/plain": [
       "1.73205080756888"
      ]
     },
     "execution_count": 3,
     "metadata": {},
     "output_type": "execute_result"
    }
   ],
   "source": [
    "sqrt(3.0)"
   ]
  },
  {
   "cell_type": "code",
   "execution_count": 4,
   "id": "c3017f04",
   "metadata": {},
   "outputs": [
    {
     "data": {
      "text/plain": [
       "0.0998334166468282"
      ]
     },
     "execution_count": 4,
     "metadata": {},
     "output_type": "execute_result"
    }
   ],
   "source": [
    "sin(0.1)"
   ]
  },
  {
   "cell_type": "code",
   "execution_count": 5,
   "id": "37378d89",
   "metadata": {},
   "outputs": [
    {
     "data": {
      "text/plain": [
       "3.1415926535897932384626433832795028842"
      ]
     },
     "execution_count": 5,
     "metadata": {},
     "output_type": "execute_result"
    }
   ],
   "source": [
    "gp(pi)"
   ]
  },
  {
   "cell_type": "markdown",
   "id": "6bd6c2aa",
   "metadata": {},
   "source": [
    "# Excercise 2"
   ]
  },
  {
   "cell_type": "code",
   "execution_count": 2,
   "id": "d8eddd0f",
   "metadata": {},
   "outputs": [],
   "source": [
    "x = SR.var(\"x\")"
   ]
  },
  {
   "cell_type": "code",
   "execution_count": 7,
   "id": "80ce3335",
   "metadata": {},
   "outputs": [],
   "source": [
    "p1=(x**2+2*x-1)**3*(x**2-2)"
   ]
  },
  {
   "cell_type": "code",
   "execution_count": 8,
   "id": "3b19cf6d",
   "metadata": {},
   "outputs": [
    {
     "data": {
      "text/plain": [
       "x^8 + 6*x^7 + 7*x^6 - 16*x^5 - 27*x^4 + 14*x^3 + 17*x^2 - 12*x + 2"
      ]
     },
     "execution_count": 8,
     "metadata": {},
     "output_type": "execute_result"
    }
   ],
   "source": [
    "p1.expand()"
   ]
  },
  {
   "cell_type": "code",
   "execution_count": 9,
   "id": "2f1ffd41",
   "metadata": {},
   "outputs": [],
   "source": [
    "n = var('n')"
   ]
  },
  {
   "cell_type": "code",
   "execution_count": 10,
   "id": "e4212365",
   "metadata": {},
   "outputs": [],
   "source": [
    "p2=(x+n)**5"
   ]
  },
  {
   "cell_type": "code",
   "execution_count": 11,
   "id": "4350d2df",
   "metadata": {},
   "outputs": [
    {
     "data": {
      "text/plain": [
       "n^5 + 5*n^4*x + 10*n^3*x^2 + 10*n^2*x^3 + 5*n*x^4 + x^5"
      ]
     },
     "execution_count": 11,
     "metadata": {},
     "output_type": "execute_result"
    }
   ],
   "source": [
    "p2.expand()"
   ]
  },
  {
   "cell_type": "markdown",
   "id": "91bffe16",
   "metadata": {},
   "source": [
    "# Exercise 3"
   ]
  },
  {
   "cell_type": "code",
   "execution_count": 12,
   "id": "6fdc8d6a",
   "metadata": {},
   "outputs": [
    {
     "data": {
      "text/plain": [
       "x^8 - 1"
      ]
     },
     "execution_count": 12,
     "metadata": {},
     "output_type": "execute_result"
    }
   ],
   "source": [
    "p=(x**8-1)\n",
    "p.expand()"
   ]
  },
  {
   "cell_type": "markdown",
   "id": "45230e76",
   "metadata": {},
   "source": [
    "# Exercise 4"
   ]
  },
  {
   "cell_type": "code",
   "execution_count": 13,
   "id": "873c671e",
   "metadata": {},
   "outputs": [],
   "source": [
    "p=(2*x**2)/(x**3-1)+(3*x)/(x**2-1)"
   ]
  },
  {
   "cell_type": "code",
   "execution_count": 14,
   "id": "e3625f7c",
   "metadata": {},
   "outputs": [
    {
     "data": {
      "text/plain": [
       "2*x^2/(x^3 - 1) + 3*x/(x^2 - 1)"
      ]
     },
     "execution_count": 14,
     "metadata": {},
     "output_type": "execute_result"
    }
   ],
   "source": [
    "p.expand()"
   ]
  },
  {
   "cell_type": "code",
   "execution_count": 15,
   "id": "7ba30f56",
   "metadata": {},
   "outputs": [
    {
     "data": {
      "text/plain": [
       "(5*x^2 + 5*x + 3)*x/((x^2 + x + 1)*(x + 1)*(x - 1))"
      ]
     },
     "execution_count": 15,
     "metadata": {},
     "output_type": "execute_result"
    }
   ],
   "source": [
    "p.factor()"
   ]
  },
  {
   "cell_type": "markdown",
   "id": "0557fefc",
   "metadata": {},
   "source": [
    "# Exercise 5"
   ]
  },
  {
   "cell_type": "code",
   "execution_count": 16,
   "id": "57a15243",
   "metadata": {},
   "outputs": [],
   "source": [
    "exp = sin(x)^2+cos(x)^2"
   ]
  },
  {
   "cell_type": "code",
   "execution_count": 17,
   "id": "f48131db",
   "metadata": {},
   "outputs": [
    {
     "data": {
      "text/plain": [
       "1"
      ]
     },
     "execution_count": 17,
     "metadata": {},
     "output_type": "execute_result"
    }
   ],
   "source": [
    "exp.trig_simplify()"
   ]
  },
  {
   "cell_type": "markdown",
   "id": "8c8be182",
   "metadata": {},
   "source": [
    "# Exercise 6"
   ]
  },
  {
   "cell_type": "code",
   "execution_count": 18,
   "id": "cddb095f",
   "metadata": {},
   "outputs": [],
   "source": [
    "exp=e**x+ln(x)"
   ]
  },
  {
   "cell_type": "code",
   "execution_count": 19,
   "id": "ac37b635",
   "metadata": {},
   "outputs": [
    {
     "data": {
      "text/plain": [
       "e"
      ]
     },
     "execution_count": 19,
     "metadata": {},
     "output_type": "execute_result"
    }
   ],
   "source": [
    "exp.subs(x=1)"
   ]
  },
  {
   "cell_type": "markdown",
   "id": "8284dc8d",
   "metadata": {},
   "source": [
    "# Exercise 7\n"
   ]
  },
  {
   "cell_type": "code",
   "execution_count": 20,
   "id": "2896aadc",
   "metadata": {},
   "outputs": [],
   "source": [
    "exp=(x**2-4*x+3==0)"
   ]
  },
  {
   "cell_type": "code",
   "execution_count": 21,
   "id": "6f16d7b7",
   "metadata": {},
   "outputs": [
    {
     "data": {
      "text/plain": [
       "[x == 3, x == 1]"
      ]
     },
     "execution_count": 21,
     "metadata": {},
     "output_type": "execute_result"
    }
   ],
   "source": [
    "solve(exp,x)"
   ]
  },
  {
   "cell_type": "code",
   "execution_count": 22,
   "id": "ddabfd5b",
   "metadata": {},
   "outputs": [],
   "source": [
    "y=SR.var('y')"
   ]
  },
  {
   "cell_type": "code",
   "execution_count": 23,
   "id": "2db3fa57",
   "metadata": {},
   "outputs": [],
   "source": [
    "exp2=(x**2*y+2*y-x==0)"
   ]
  },
  {
   "cell_type": "code",
   "execution_count": 24,
   "id": "252e1b47",
   "metadata": {},
   "outputs": [
    {
     "data": {
      "text/plain": [
       "[y == x/(x^2 + 2)]"
      ]
     },
     "execution_count": 24,
     "metadata": {},
     "output_type": "execute_result"
    }
   ],
   "source": [
    "solve(exp2,y)"
   ]
  },
  {
   "cell_type": "code",
   "execution_count": 25,
   "id": "1dfd3c60",
   "metadata": {},
   "outputs": [
    {
     "data": {
      "text/plain": [
       "[x == -1/2*(sqrt(-8*y^2 + 1) - 1)/y, x == 1/2*(sqrt(-8*y^2 + 1) + 1)/y]"
      ]
     },
     "execution_count": 25,
     "metadata": {},
     "output_type": "execute_result"
    }
   ],
   "source": [
    "solve(exp2,x)"
   ]
  },
  {
   "cell_type": "code",
   "execution_count": 26,
   "id": "5f95c0d0",
   "metadata": {},
   "outputs": [],
   "source": [
    "exp3=(x-cos(x)==0)"
   ]
  },
  {
   "cell_type": "code",
   "execution_count": 27,
   "id": "f3689fbf",
   "metadata": {},
   "outputs": [
    {
     "name": "stderr",
     "output_type": "stream",
     "text": [
      "/usr/lib/python3/dist-packages/scipy/sparse/sputils.py:16: DeprecationWarning: `np.typeDict` is a deprecated alias for `np.sctypeDict`.\n",
      "  supported_dtypes = [np.typeDict[x] for x in supported_dtypes]\n",
      "/usr/lib/python3/dist-packages/scipy/linalg/__init__.py:217: DeprecationWarning: The module numpy.dual is deprecated.  Instead of using dual, use the functions directly from numpy or scipy.\n",
      "  from numpy.dual import register_func\n",
      "/usr/lib/python3/dist-packages/scipy/special/orthogonal.py:81: DeprecationWarning: `np.int` is a deprecated alias for the builtin `int`. To silence this warning, use `int` by itself. Doing this will not modify any behavior and is safe. When replacing `np.int`, you may wish to use e.g. `np.int64` or `np.int32` to specify the precision. If you wish to review your current use, check the release note link for additional information.\n",
      "Deprecated in NumPy 1.20; for more details and guidance: https://numpy.org/devdocs/release/1.20.0-notes.html#deprecations\n",
      "  from numpy import (exp, inf, pi, sqrt, floor, sin, cos, around, int,\n"
     ]
    },
    {
     "data": {
      "text/plain": [
       "0.7390851332151607"
      ]
     },
     "execution_count": 27,
     "metadata": {},
     "output_type": "execute_result"
    }
   ],
   "source": [
    "find_root(exp3,-1,1)"
   ]
  },
  {
   "cell_type": "code",
   "execution_count": 28,
   "id": "90ccfec4",
   "metadata": {},
   "outputs": [],
   "source": [
    "exp4=(x**5-3*x**3-1==0)"
   ]
  },
  {
   "cell_type": "code",
   "execution_count": 29,
   "id": "c8456092",
   "metadata": {},
   "outputs": [
    {
     "data": {
      "text/plain": [
       "x^5 - 3*x^3 - 1 == 0"
      ]
     },
     "execution_count": 29,
     "metadata": {},
     "output_type": "execute_result"
    }
   ],
   "source": [
    "exp4.factor()"
   ]
  },
  {
   "cell_type": "code",
   "execution_count": 30,
   "id": "2adebb12",
   "metadata": {},
   "outputs": [
    {
     "data": {
      "text/plain": [
       "1.7823087800458832"
      ]
     },
     "execution_count": 30,
     "metadata": {},
     "output_type": "execute_result"
    }
   ],
   "source": [
    "find_root(exp4, -2,2)"
   ]
  },
  {
   "cell_type": "code",
   "execution_count": 31,
   "id": "0b053eee",
   "metadata": {},
   "outputs": [
    {
     "data": {
      "text/plain": [
       "-0.741813930486773"
      ]
     },
     "execution_count": 31,
     "metadata": {},
     "output_type": "execute_result"
    }
   ],
   "source": [
    "find_root(exp4,-2,0)"
   ]
  },
  {
   "cell_type": "code",
   "execution_count": 32,
   "id": "153fa617",
   "metadata": {},
   "outputs": [
    {
     "data": {
      "text/plain": [
       "-1.6687775925403214"
      ]
     },
     "execution_count": 32,
     "metadata": {},
     "output_type": "execute_result"
    }
   ],
   "source": [
    "find_root(exp4,-2,-0.75)"
   ]
  },
  {
   "cell_type": "code",
   "execution_count": 33,
   "id": "7e2b71ec",
   "metadata": {},
   "outputs": [],
   "source": [
    "sys=[4*x+3*y==10,3*x-y==1]"
   ]
  },
  {
   "cell_type": "code",
   "execution_count": 34,
   "id": "f9e0cb80",
   "metadata": {},
   "outputs": [
    {
     "data": {
      "text/plain": [
       "[[x == 1, y == 2]]"
      ]
     },
     "execution_count": 34,
     "metadata": {},
     "output_type": "execute_result"
    }
   ],
   "source": [
    "solve(sys, x, y)"
   ]
  },
  {
   "cell_type": "markdown",
   "id": "9796532b",
   "metadata": {},
   "source": [
    "# Exercise 9\n"
   ]
  },
  {
   "cell_type": "code",
   "execution_count": 35,
   "id": "0eb9006e",
   "metadata": {},
   "outputs": [],
   "source": [
    "g = e**x-sin(x)"
   ]
  },
  {
   "cell_type": "code",
   "execution_count": 36,
   "id": "5f475f8f",
   "metadata": {},
   "outputs": [
    {
     "data": {
      "text/plain": [
       "1"
      ]
     },
     "execution_count": 36,
     "metadata": {},
     "output_type": "execute_result"
    }
   ],
   "source": [
    "g.subs(x=0)"
   ]
  },
  {
   "cell_type": "code",
   "execution_count": 37,
   "id": "70f72d18",
   "metadata": {},
   "outputs": [],
   "source": [
    "dg = diff(g(x),x,1)"
   ]
  },
  {
   "cell_type": "code",
   "execution_count": 38,
   "id": "22a7be4a",
   "metadata": {},
   "outputs": [
    {
     "data": {
      "text/plain": [
       "0"
      ]
     },
     "execution_count": 38,
     "metadata": {},
     "output_type": "execute_result"
    }
   ],
   "source": [
    "dg.subs(x=0)"
   ]
  },
  {
   "cell_type": "code",
   "execution_count": 39,
   "id": "3e436750",
   "metadata": {},
   "outputs": [],
   "source": [
    "Pg = integrate(g(x),x)"
   ]
  },
  {
   "cell_type": "code",
   "execution_count": 40,
   "id": "e0f34017",
   "metadata": {},
   "outputs": [
    {
     "data": {
      "text/plain": [
       "cos(x) + e^x"
      ]
     },
     "execution_count": 40,
     "metadata": {},
     "output_type": "execute_result"
    }
   ],
   "source": [
    "Pg.expand()"
   ]
  },
  {
   "cell_type": "code",
   "execution_count": 41,
   "id": "72d4ba0b",
   "metadata": {},
   "outputs": [
    {
     "data": {
      "text/plain": [
       "(e^2 - 1)*e^(-1)"
      ]
     },
     "execution_count": 41,
     "metadata": {},
     "output_type": "execute_result"
    }
   ],
   "source": [
    "integrate(g(x),x,-1,1)"
   ]
  },
  {
   "cell_type": "markdown",
   "id": "4ccb56af",
   "metadata": {},
   "source": [
    "# Exercise 10\n"
   ]
  },
  {
   "cell_type": "code",
   "execution_count": 42,
   "id": "0fcdbc30",
   "metadata": {},
   "outputs": [
    {
     "data": {
      "text/plain": [
       "1"
      ]
     },
     "execution_count": 42,
     "metadata": {},
     "output_type": "execute_result"
    }
   ],
   "source": [
    "limit(sin(x)/x,x=0)"
   ]
  },
  {
   "cell_type": "code",
   "execution_count": 43,
   "id": "768b2eba",
   "metadata": {},
   "outputs": [
    {
     "data": {
      "text/plain": [
       "0"
      ]
     },
     "execution_count": 43,
     "metadata": {},
     "output_type": "execute_result"
    }
   ],
   "source": [
    "limit((cos(x)+1)/(x-pi),x=pi)"
   ]
  },
  {
   "cell_type": "markdown",
   "id": "a7c3629d",
   "metadata": {},
   "source": [
    "# Exercise 11"
   ]
  },
  {
   "cell_type": "code",
   "execution_count": 3,
   "id": "ad5d52a1",
   "metadata": {},
   "outputs": [],
   "source": [
    "f(x)=sin(x)"
   ]
  },
  {
   "cell_type": "code",
   "execution_count": 4,
   "id": "38e165b0",
   "metadata": {},
   "outputs": [
    {
     "name": "stderr",
     "output_type": "stream",
     "text": [
      "/usr/lib/python3/dist-packages/sage/repl/rich_output/display_manager.py:590: RichReprWarning: Exception in _rich_repr_ while displaying object: cannot import name 'OldScalarFormatter' from 'matplotlib.ticker' (/home/georgerapeanu/.local/lib/python3.8/site-packages/matplotlib/ticker.py)\n",
      "  warnings.warn(\n"
     ]
    },
    {
     "data": {
      "text/plain": [
       "Graphics object consisting of 1 graphics primitive"
      ]
     },
     "execution_count": 4,
     "metadata": {},
     "output_type": "execute_result"
    }
   ],
   "source": [
    "plot(f(x),-1,1)"
   ]
  },
  {
   "cell_type": "code",
   "execution_count": null,
   "id": "13123ad8",
   "metadata": {},
   "outputs": [],
   "source": []
  },
  {
   "cell_type": "code",
   "execution_count": null,
   "id": "3579ae16",
   "metadata": {},
   "outputs": [],
   "source": []
  }
 ],
 "metadata": {
  "kernelspec": {
   "display_name": "SageMath 9.0",
   "language": "sage",
   "name": "sagemath"
  },
  "language_info": {
   "codemirror_mode": {
    "name": "ipython",
    "version": 3
   },
   "file_extension": ".py",
   "mimetype": "text/x-python",
   "name": "python",
   "nbconvert_exporter": "python",
   "pygments_lexer": "ipython3",
   "version": "3.8.10"
  }
 },
 "nbformat": 4,
 "nbformat_minor": 5
}
