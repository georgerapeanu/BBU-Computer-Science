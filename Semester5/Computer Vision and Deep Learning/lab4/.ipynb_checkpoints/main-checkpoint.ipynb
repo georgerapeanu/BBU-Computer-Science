{
 "cells": [
  {
   "cell_type": "markdown",
   "source": [],
   "metadata": {
    "collapsed": false
   },
   "id": "1e925b6bbdc408aa"
  },
  {
   "cell_type": "code",
   "execution_count": 1,
   "outputs": [
    {
     "name": "stderr",
     "output_type": "stream",
     "text": [
      "/home/georgerapeanu/anaconda3/envs/AI2/lib/python3.10/site-packages/torchvision/datapoints/__init__.py:12: UserWarning: The torchvision.datapoints and torchvision.transforms.v2 namespaces are still Beta. While we do not expect major breaking changes, some APIs may still change according to user feedback. Please submit any feedback you may have in this issue: https://github.com/pytorch/vision/issues/6753, and you can also check out https://github.com/pytorch/vision/issues/7319 to learn more about the APIs that we suspect might involve future changes. You can silence this warning by calling torchvision.disable_beta_transforms_warning().\n",
      "  warnings.warn(_BETA_TRANSFORMS_WARNING)\n",
      "/home/georgerapeanu/anaconda3/envs/AI2/lib/python3.10/site-packages/torchvision/transforms/v2/__init__.py:54: UserWarning: The torchvision.datapoints and torchvision.transforms.v2 namespaces are still Beta. While we do not expect major breaking changes, some APIs may still change according to user feedback. Please submit any feedback you may have in this issue: https://github.com/pytorch/vision/issues/6753, and you can also check out https://github.com/pytorch/vision/issues/7319 to learn more about the APIs that we suspect might involve future changes. You can silence this warning by calling torchvision.disable_beta_transforms_warning().\n",
      "  warnings.warn(_BETA_TRANSFORMS_WARNING)\n"
     ]
    }
   ],
   "source": [
    "import torch.nn.functional\n",
    "\n",
    "from model import UNet\n",
    "from lfw_dataset import LFWDataset\n",
    "from torch.utils.data.dataloader import DataLoader\n",
    "import numpy as np\n",
    "from torchvision.transforms import v2\n",
    "import cv2\n",
    "import matplotlib.pyplot as plt\n",
    "from utils import transform_generator, inv_transform\n",
    "from copy import deepcopy\n",
    "import pickle\n",
    "from utils import eval\n",
    "from train import train\n",
    "import wandb"
   ],
   "metadata": {
    "collapsed": false,
    "ExecuteTime": {
     "end_time": "2024-01-12T17:47:08.810215664Z",
     "start_time": "2024-01-12T17:47:04.946675056Z"
    }
   },
   "id": "332284bc30e487"
  },
  {
   "cell_type": "code",
   "execution_count": 2,
   "outputs": [],
   "source": [
    "sweep_config = {\n",
    "    'method': 'grid'\n",
    "    }\n",
    "metric = {\n",
    "    'name': 'val_loss',\n",
    "    'goal': 'minimize'   \n",
    "    }\n",
    "\n",
    "sweep_config['metric'] = metric\n",
    "\n",
    "parameters_dict = {\n",
    "    'NUM_EPOCHS': {\n",
    "        'values': [10]\n",
    "    },\n",
    "     'BATCH_SIZE': {\n",
    "         'values': [32, 48, 64, 80, 96]\n",
    "      },\n",
    "    'INPUT_SHAPE': {\n",
    "        'values': [(64, 64)]\n",
    "    },\n",
    "    'NUM_LAYERS': {\n",
    "        'values': [2]\n",
    "    },\n",
    "    'LR': {\n",
    "        'values': [0.004, 0.008, 0.01]\n",
    "      },\n",
    "    'INTERMEDIARY_FILTERS': {\n",
    "        'values': [8]\n",
    "    }\n",
    "}\n",
    "\n",
    "# parameters_dict = {\n",
    "#     'NUM_EPOCHS': {\n",
    "#         'values': [10, 20]\n",
    "#     },\n",
    "#      'BATCH_SIZE': {\n",
    "#         # integers between 32 and 256\n",
    "#         # with evenly-distributed logarithms \n",
    "#         'distribution': 'q_log_uniform_values',\n",
    "#         'q': 8,\n",
    "#         'min': 32,\n",
    "#         'max': 96,\n",
    "#       },\n",
    "#     'INPUT_SHAPE': {\n",
    "#         'values': [(64, 64)]\n",
    "#     },\n",
    "#     'NUM_LAYERS': {\n",
    "#         'values': [1, 2]\n",
    "#     },\n",
    "#     'LR': {\n",
    "#         # a flat distribution between 0 and 0.1\n",
    "#         'distribution': 'uniform',\n",
    "#         'min': 0.004,\n",
    "#         'max': 0.04\n",
    "#       },\n",
    "#     'INTERMEDIARY_FILTERS': {\n",
    "#         'values': [8, 16, 32]\n",
    "#     }\n",
    "# }\n",
    "\n",
    "sweep_config['parameters'] = parameters_dict"
   ],
   "metadata": {
    "collapsed": false,
    "ExecuteTime": {
     "end_time": "2024-01-12T11:43:07.907521379Z",
     "start_time": "2024-01-12T11:43:07.878950902Z"
    }
   },
   "id": "5327707e87b8b25b"
  },
  {
   "cell_type": "code",
   "execution_count": 3,
   "outputs": [
    {
     "name": "stdout",
     "output_type": "stream",
     "text": [
      "Create sweep with ID: cstsi9oz\n",
      "Sweep URL: https://wandb.ai/georgerapeanu/cvdl/sweeps/cstsi9oz\n"
     ]
    }
   ],
   "source": [
    "sweep_id = wandb.sweep(sweep_config, project=\"cvdl\")"
   ],
   "metadata": {
    "collapsed": false,
    "ExecuteTime": {
     "end_time": "2024-01-12T11:43:10.123972032Z",
     "start_time": "2024-01-12T11:43:07.886045411Z"
    }
   },
   "id": "a1f70e21d7b2f1d3"
  },
  {
   "cell_type": "code",
   "execution_count": 4,
   "outputs": [],
   "source": [
    "def run_wandb():\n",
    "    with wandb.init():\n",
    "        train(None, wandb.config)"
   ],
   "metadata": {
    "collapsed": false,
    "ExecuteTime": {
     "end_time": "2024-01-12T11:43:10.146594166Z",
     "start_time": "2024-01-12T11:43:10.086467310Z"
    }
   },
   "id": "1de6070f3c99a7ff"
  },
  {
   "cell_type": "code",
   "execution_count": null,
   "outputs": [],
   "source": [
    "wandb.agent(sweep_id, run_wandb, project=\"cvdl\")RuntimeError: Can't redefine method: forward on class: __torch__.model.___torch_mangle_35.UNet (of Python compilation unit at: 0x5638a008b5a0)"
   ],
   "metadata": {
    "collapsed": false
   },
   "id": "b78ede3949e0e91"
  },
  {
   "cell_type": "code",
   "execution_count": null,
   "outputs": [],
   "source": [
    "wandb.init(\n",
    "    # set the wandb project where this run will be logged\n",
    "    project=\"cvdl\",\n",
    "    \n",
    "    # track hyperparameters and run metadata\n",
    "    config={\n",
    "        'NUM_EPOCHS': 150,\n",
    "        'BATCH_SIZE': 64,\n",
    "        'INPUT_SHAPE': (64, 64),\n",
    "        'NUM_LAYERS': 1,\n",
    "        'LR': 0.01,\n",
    "        'INTERMEDIARY_FILTERS': 32\n",
    "    }\n",
    ")\n"
   ],
   "metadata": {
    "collapsed": false
   },
   "id": "823785a40aba94f"
  },
  {
   "cell_type": "code",
   "execution_count": 3,
   "outputs": [
    {
     "data": {
      "text/plain": "{'NUM_EPOCHS': 10, 'BATCH_SIZE': 32, 'INPUT_SHAPE': [64, 64], 'NUM_LAYERS': 1, 'LR': 0.0713}"
     },
     "execution_count": 3,
     "metadata": {},
     "output_type": "execute_result"
    }
   ],
   "source": [
    "wandb.config\n"
   ],
   "metadata": {
    "collapsed": false,
    "ExecuteTime": {
     "end_time": "2024-01-11T14:20:48.085297833Z",
     "start_time": "2024-01-11T14:20:48.009571374Z"
    }
   },
   "id": "a209ed6c9e0101f4"
  },
  {
   "cell_type": "code",
   "execution_count": 5,
   "outputs": [],
   "source": [
    "NUM_EPOCHS = 100\n",
    "BATCH_SIZE= 128\n",
    "INPUT_SHAPE = (64, 64)\n",
    "NUM_LAYERS = 2\n",
    "LR = 0.01\n",
    "\n",
    "ARTIFACTS_PATH='./artifacts'\n",
    "BASE_PATH=\"./lfw_dataset\""
   ],
   "metadata": {
    "collapsed": false,
    "ExecuteTime": {
     "end_time": "2024-01-12T15:36:14.702259601Z",
     "start_time": "2024-01-12T15:36:14.669595571Z"
    }
   },
   "id": "dd344063706b1cd9"
  },
  {
   "cell_type": "code",
   "execution_count": null,
   "outputs": [],
   "source": [
    "train(None, wandb.config)"
   ],
   "metadata": {
    "collapsed": false
   },
   "id": "19e72edffb7a25b2"
  },
  {
   "cell_type": "code",
   "execution_count": null,
   "outputs": [],
   "source": [
    "wandb.finish()"
   ],
   "metadata": {
    "collapsed": false
   },
   "id": "7d2fb092bc62811"
  },
  {
   "cell_type": "code",
   "execution_count": null,
   "outputs": [],
   "source": [],
   "metadata": {
    "collapsed": false
   },
   "id": "3ddedf1d6d6043ce"
  },
  {
   "cell_type": "code",
   "execution_count": 7,
   "outputs": [
    {
     "ename": "KeyboardInterrupt",
     "evalue": "",
     "output_type": "error",
     "traceback": [
      "\u001B[0;31m---------------------------------------------------------------------------\u001B[0m",
      "\u001B[0;31mKeyboardInterrupt\u001B[0m                         Traceback (most recent call last)",
      "Cell \u001B[0;32mIn[7], line 1\u001B[0m\n\u001B[0;32m----> 1\u001B[0m ds \u001B[38;5;241m=\u001B[39m \u001B[43mLFWDataset\u001B[49m\u001B[43m(\u001B[49m\u001B[43mBASE_PATH\u001B[49m\u001B[43m,\u001B[49m\u001B[43m \u001B[49m\u001B[43mtransforms\u001B[49m\u001B[38;5;241;43m=\u001B[39;49m\u001B[43mtransform_generator\u001B[49m\u001B[43m(\u001B[49m\u001B[43mINPUT_SHAPE\u001B[49m\u001B[43m)\u001B[49m\u001B[43m,\u001B[49m\u001B[43m \u001B[49m\u001B[43msplit_name\u001B[49m\u001B[38;5;241;43m=\u001B[39;49m\u001B[38;5;124;43m'\u001B[39;49m\u001B[38;5;124;43mtest\u001B[39;49m\u001B[38;5;124;43m'\u001B[39;49m\u001B[43m,\u001B[49m\u001B[43m \u001B[49m\u001B[43mdownload\u001B[49m\u001B[38;5;241;43m=\u001B[39;49m\u001B[38;5;28;43;01mFalse\u001B[39;49;00m\u001B[43m)\u001B[49m\n\u001B[1;32m      2\u001B[0m model\u001B[38;5;241m.\u001B[39meval()\n\u001B[1;32m      4\u001B[0m X, y \u001B[38;5;241m=\u001B[39m ds[\u001B[38;5;241m2\u001B[39m]\n",
      "File \u001B[0;32m~/Desktop/BBU-Computer-Science/Semester5/Computer Vision and Deep Learning/lab4/lfw_dataset.py:40\u001B[0m, in \u001B[0;36mLFWDataset.__init__\u001B[0;34m(self, base_folder, transforms, download, split_name)\u001B[0m\n\u001B[1;32m     38\u001B[0m raw_file_path \u001B[38;5;241m=\u001B[39m \u001B[38;5;124mf\u001B[39m\u001B[38;5;124m\"\u001B[39m\u001B[38;5;132;01m{\u001B[39;00mbase_folder\u001B[38;5;132;01m}\u001B[39;00m\u001B[38;5;124m/lfw_funneled/\u001B[39m\u001B[38;5;132;01m{\u001B[39;00mname\u001B[38;5;132;01m}\u001B[39;00m\u001B[38;5;124m/\u001B[39m\u001B[38;5;132;01m{\u001B[39;00mname\u001B[38;5;132;01m}\u001B[39;00m\u001B[38;5;124m_\u001B[39m\u001B[38;5;132;01m{\u001B[39;00mnumber\u001B[38;5;132;01m}\u001B[39;00m\u001B[38;5;124m.jpg\u001B[39m\u001B[38;5;124m\"\u001B[39m\n\u001B[1;32m     39\u001B[0m feature_file_path \u001B[38;5;241m=\u001B[39m \u001B[38;5;124mf\u001B[39m\u001B[38;5;124m\"\u001B[39m\u001B[38;5;132;01m{\u001B[39;00mbase_folder\u001B[38;5;132;01m}\u001B[39;00m\u001B[38;5;124m/parts_lfw_funneled_gt_images/\u001B[39m\u001B[38;5;132;01m{\u001B[39;00mname\u001B[38;5;132;01m}\u001B[39;00m\u001B[38;5;124m_\u001B[39m\u001B[38;5;132;01m{\u001B[39;00mnumber\u001B[38;5;132;01m}\u001B[39;00m\u001B[38;5;124m.ppm\u001B[39m\u001B[38;5;124m\"\u001B[39m\n\u001B[0;32m---> 40\u001B[0m \u001B[38;5;28mself\u001B[39m\u001B[38;5;241m.\u001B[39mX\u001B[38;5;241m.\u001B[39mappend(\u001B[43mcv2\u001B[49m\u001B[38;5;241;43m.\u001B[39;49m\u001B[43mimread\u001B[49m\u001B[43m(\u001B[49m\u001B[43mraw_file_path\u001B[49m\u001B[43m)\u001B[49m)\n\u001B[1;32m     41\u001B[0m \u001B[38;5;28mself\u001B[39m\u001B[38;5;241m.\u001B[39mY\u001B[38;5;241m.\u001B[39mappend(cv2\u001B[38;5;241m.\u001B[39mcvtColor(np\u001B[38;5;241m.\u001B[39marray(Image\u001B[38;5;241m.\u001B[39mopen(feature_file_path)), cv2\u001B[38;5;241m.\u001B[39mCOLOR_RGB2BGR))\n\u001B[1;32m     43\u001B[0m \u001B[38;5;28;01mif\u001B[39;00m transforms \u001B[38;5;129;01mis\u001B[39;00m \u001B[38;5;129;01mnot\u001B[39;00m \u001B[38;5;28;01mNone\u001B[39;00m :\n",
      "\u001B[0;31mKeyboardInterrupt\u001B[0m: "
     ]
    }
   ],
   "source": [
    "ds = LFWDataset(BASE_PATH, transforms=transform_generator(INPUT_SHAPE), split_name='test', download=False)\n",
    "model.eval()\n",
    "\n",
    "X, y = ds[2]\n",
    "model_y = model(X.view(-1, *X.shape))\n",
    "model_y = torch.nn.functional.interpolate(model_y, size=tuple(y.shape))\n",
    "model_y = model_y.view(-1, *y.shape).argmax(dim=0)\n",
    "\n",
    "_, model_y = inv_transform(X, model_y)\n",
    "X, y = inv_transform(X, y)\n",
    "\n",
    "print(X.shape, y.shape, model_y.shape)\n",
    "fig, axes = plt.subplots(1, 3, figsize=(10, 5))\n",
    "\n",
    "axes[0].imshow(X, cmap='gray')\n",
    "axes[0].set_title('Input')\n",
    "\n",
    "axes[1].imshow(cv2.cvtColor(model_y, cv2.COLOR_BGR2RGB))\n",
    "axes[1].set_title('Output')\n",
    "\n",
    "axes[2].imshow(cv2.cvtColor(y, cv2.COLOR_BGR2RGB))\n",
    "axes[2].set_title('Ground truth')\n",
    "\n",
    "# Remove ticks and labels for a cleaner display\n",
    "for ax in axes:\n",
    "    ax.axis('off')\n",
    "\n",
    "# Show the plot\n",
    "plt.show()"
   ],
   "metadata": {
    "collapsed": false,
    "ExecuteTime": {
     "end_time": "2024-01-03T16:19:16.353131127Z",
     "start_time": "2024-01-03T16:19:12.924790894Z"
    }
   },
   "id": "e38bd6ef6aff952"
  },
  {
   "cell_type": "code",
   "execution_count": null,
   "outputs": [],
   "source": [
    "eval(model, LFWDataset(BASE_PATH, transforms=transform_generator(INPUT_SHAPE), download=False, split_name='test'))"
   ],
   "metadata": {
    "collapsed": false,
    "ExecuteTime": {
     "end_time": "2024-01-03T16:19:16.371719979Z",
     "start_time": "2024-01-03T16:19:16.356043204Z"
    }
   },
   "id": "d3f680494f32e892"
  },
  {
   "cell_type": "code",
   "execution_count": 6,
   "outputs": [],
   "source": [
    "ds = LFWDataset(BASE_PATH, transforms=transform_generator(INPUT_SHAPE), split_name='test', download=False)"
   ],
   "metadata": {
    "collapsed": false,
    "ExecuteTime": {
     "end_time": "2024-01-12T15:36:25.453473148Z",
     "start_time": "2024-01-12T15:36:20.985269831Z"
    }
   },
   "id": "9e861649610571"
  },
  {
   "cell_type": "code",
   "execution_count": null,
   "outputs": [],
   "source": [
    "len(ds)"
   ],
   "metadata": {
    "collapsed": false,
    "ExecuteTime": {
     "start_time": "2024-01-03T16:04:34.218356652Z"
    }
   },
   "id": "c692ef262dd1eba1"
  },
  {
   "cell_type": "code",
   "execution_count": 8,
   "outputs": [
    {
     "data": {
      "text/plain": "torch.Size([3, 64, 64])"
     },
     "execution_count": 8,
     "metadata": {},
     "output_type": "execute_result"
    }
   ],
   "source": [
    "ds[2][0].shape"
   ],
   "metadata": {
    "collapsed": false,
    "ExecuteTime": {
     "end_time": "2024-01-12T15:36:41.596249573Z",
     "start_time": "2024-01-12T15:36:41.539060959Z"
    }
   },
   "id": "d2572ef3ca1cfd09"
  },
  {
   "cell_type": "code",
   "execution_count": 2,
   "outputs": [],
   "source": [
    "model = torch.load(\"./artifacts/model.h5\", map_location=torch.device('cpu'))"
   ],
   "metadata": {
    "collapsed": false,
    "ExecuteTime": {
     "end_time": "2024-01-12T17:48:30.383964975Z",
     "start_time": "2024-01-12T17:48:30.312884466Z"
    }
   },
   "id": "71bcd2041b734321"
  },
  {
   "cell_type": "code",
   "execution_count": 3,
   "outputs": [],
   "source": [
    "model.eval()\n",
    "scripted_model = torch.jit.script(model)\n",
    "scripted_model.save(\"./artifacts/scripted_model.pt\")"
   ],
   "metadata": {
    "collapsed": false,
    "ExecuteTime": {
     "end_time": "2024-01-12T17:48:33.440477896Z",
     "start_time": "2024-01-12T17:48:33.110874462Z"
    }
   },
   "id": "8cce2b6c077a79e8"
  },
  {
   "cell_type": "code",
   "execution_count": 4,
   "outputs": [
    {
     "ename": "NameError",
     "evalue": "name 'ds' is not defined",
     "output_type": "error",
     "traceback": [
      "\u001B[0;31m---------------------------------------------------------------------------\u001B[0m",
      "\u001B[0;31mNameError\u001B[0m                                 Traceback (most recent call last)",
      "Cell \u001B[0;32mIn[4], line 2\u001B[0m\n\u001B[1;32m      1\u001B[0m \u001B[38;5;28;01mwith\u001B[39;00m torch\u001B[38;5;241m.\u001B[39mno_grad():\n\u001B[0;32m----> 2\u001B[0m     model_y \u001B[38;5;241m=\u001B[39m model(\u001B[43mds\u001B[49m[\u001B[38;5;241m2\u001B[39m][\u001B[38;5;241m0\u001B[39m]\u001B[38;5;241m.\u001B[39mview(\u001B[38;5;241m-\u001B[39m\u001B[38;5;241m1\u001B[39m, \u001B[38;5;241m*\u001B[39mds[\u001B[38;5;241m2\u001B[39m][\u001B[38;5;241m0\u001B[39m]\u001B[38;5;241m.\u001B[39mshape))\n\u001B[1;32m      3\u001B[0m     model_y \u001B[38;5;241m=\u001B[39m torch\u001B[38;5;241m.\u001B[39mnn\u001B[38;5;241m.\u001B[39mfunctional\u001B[38;5;241m.\u001B[39minterpolate(model_y, size\u001B[38;5;241m=\u001B[39m\u001B[38;5;28mtuple\u001B[39m(ds[\u001B[38;5;241m2\u001B[39m][\u001B[38;5;241m0\u001B[39m]\u001B[38;5;241m.\u001B[39mshape[\u001B[38;5;241m1\u001B[39m:]))\n\u001B[1;32m      4\u001B[0m     model_y \u001B[38;5;241m=\u001B[39m model_y\u001B[38;5;241m.\u001B[39mview(\u001B[38;5;241m-\u001B[39m\u001B[38;5;241m1\u001B[39m, \u001B[38;5;241m*\u001B[39mds[\u001B[38;5;241m2\u001B[39m][\u001B[38;5;241m1\u001B[39m]\u001B[38;5;241m.\u001B[39mshape)\u001B[38;5;241m.\u001B[39margmax(dim\u001B[38;5;241m=\u001B[39m\u001B[38;5;241m0\u001B[39m)\n",
      "\u001B[0;31mNameError\u001B[0m: name 'ds' is not defined"
     ]
    }
   ],
   "source": [
    "with torch.no_grad():\n",
    "    model_y = model(ds[2][0].view(-1, *ds[2][0].shape))\n",
    "    model_y = torch.nn.functional.interpolate(model_y, size=tuple(ds[2][0].shape[1:]))\n",
    "    model_y = model_y.view(-1, *ds[2][1].shape).argmax(dim=0)\n",
    "    X, model_y = inv_transform(ds[2][0], model_y)\n",
    "    X, y = inv_transform(ds[2][0], ds[2][1])\n",
    "    fig, axes = plt.subplots(1, 3, figsize=(10, 5))\n",
    "    \n",
    "    axes[0].imshow(X)\n",
    "    axes[0].set_title('Input')\n",
    "    \n",
    "    axes[1].imshow(cv2.cvtColor(model_y, cv2.COLOR_BGR2RGB))\n",
    "    axes[1].set_title('Output')\n",
    "    \n",
    "    axes[2].imshow(cv2.cvtColor(y, cv2.COLOR_BGR2RGB))\n",
    "    axes[2].set_title('Ground truth')\n",
    "    \n",
    "    # Remove ticks and labels for a cleaner display\n",
    "    for ax in axes:\n",
    "        ax.axis('off')\n",
    "    \n",
    "    # Show the plot\n",
    "    plt.show() "
   ],
   "metadata": {
    "collapsed": false,
    "ExecuteTime": {
     "end_time": "2024-01-12T17:48:39.806985071Z",
     "start_time": "2024-01-12T17:48:38.011461652Z"
    }
   },
   "id": "d960eaa6491bf52d"
  },
  {
   "cell_type": "code",
   "execution_count": null,
   "outputs": [],
   "source": [],
   "metadata": {
    "collapsed": false
   },
   "id": "a7404f7a66feb3b"
  }
 ],
 "metadata": {
  "kernelspec": {
   "display_name": "Python 3",
   "language": "python",
   "name": "python3"
  },
  "language_info": {
   "codemirror_mode": {
    "name": "ipython",
    "version": 2
   },
   "file_extension": ".py",
   "mimetype": "text/x-python",
   "name": "python",
   "nbconvert_exporter": "python",
   "pygments_lexer": "ipython2",
   "version": "2.7.6"
  }
 },
 "nbformat": 4,
 "nbformat_minor": 5
}
