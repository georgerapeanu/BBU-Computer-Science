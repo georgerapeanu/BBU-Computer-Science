{
 "cells": [
  {
   "cell_type": "markdown",
   "source": [],
   "metadata": {
    "collapsed": false
   },
   "id": "1e925b6bbdc408aa"
  },
  {
   "cell_type": "code",
   "execution_count": 2,
   "outputs": [
    {
     "name": "stderr",
     "output_type": "stream",
     "text": [
      "/home/georgerapeanu/anaconda3/envs/AI2/lib/python3.10/site-packages/torchvision/datapoints/__init__.py:12: UserWarning: The torchvision.datapoints and torchvision.transforms.v2 namespaces are still Beta. While we do not expect major breaking changes, some APIs may still change according to user feedback. Please submit any feedback you may have in this issue: https://github.com/pytorch/vision/issues/6753, and you can also check out https://github.com/pytorch/vision/issues/7319 to learn more about the APIs that we suspect might involve future changes. You can silence this warning by calling torchvision.disable_beta_transforms_warning().\n",
      "  warnings.warn(_BETA_TRANSFORMS_WARNING)\n",
      "/home/georgerapeanu/anaconda3/envs/AI2/lib/python3.10/site-packages/torchvision/transforms/v2/__init__.py:54: UserWarning: The torchvision.datapoints and torchvision.transforms.v2 namespaces are still Beta. While we do not expect major breaking changes, some APIs may still change according to user feedback. Please submit any feedback you may have in this issue: https://github.com/pytorch/vision/issues/6753, and you can also check out https://github.com/pytorch/vision/issues/7319 to learn more about the APIs that we suspect might involve future changes. You can silence this warning by calling torchvision.disable_beta_transforms_warning().\n",
      "  warnings.warn(_BETA_TRANSFORMS_WARNING)\n"
     ]
    }
   ],
   "source": [
    "import torch.nn.functional\n",
    "\n",
    "from model import UNet\n",
    "from lfw_dataset import LFWDataset\n",
    "from torch.utils.data.dataloader import DataLoader\n",
    "import numpy as np\n",
    "from torchvision.transforms import v2\n",
    "import cv2\n",
    "import matplotlib.pyplot as plt\n",
    "from utils import transform_generator, inv_transform\n",
    "from copy import deepcopy\n",
    "import pickle\n",
    "from utils import eval\n",
    "from train import train\n",
    "import wandb"
   ],
   "metadata": {
    "collapsed": false,
    "ExecuteTime": {
     "end_time": "2024-01-12T14:59:45.307604356Z",
     "start_time": "2024-01-12T14:59:39.314578122Z"
    }
   },
   "id": "332284bc30e487"
  },
  {
   "cell_type": "code",
   "execution_count": 2,
   "outputs": [],
   "source": [
    "sweep_config = {\n",
    "    'method': 'grid'\n",
    "    }\n",
    "metric = {\n",
    "    'name': 'val_loss',\n",
    "    'goal': 'minimize'   \n",
    "    }\n",
    "\n",
    "sweep_config['metric'] = metric\n",
    "\n",
    "parameters_dict = {\n",
    "    'NUM_EPOCHS': {\n",
    "        'values': [10]\n",
    "    },\n",
    "     'BATCH_SIZE': {\n",
    "         'values': [32, 48, 64, 80, 96]\n",
    "      },\n",
    "    'INPUT_SHAPE': {\n",
    "        'values': [(64, 64)]\n",
    "    },\n",
    "    'NUM_LAYERS': {\n",
    "        'values': [2]\n",
    "    },\n",
    "    'LR': {\n",
    "        'values': [0.004, 0.008, 0.01]\n",
    "      },\n",
    "    'INTERMEDIARY_FILTERS': {\n",
    "        'values': [8]\n",
    "    }\n",
    "}\n",
    "\n",
    "# parameters_dict = {\n",
    "#     'NUM_EPOCHS': {\n",
    "#         'values': [10, 20]\n",
    "#     },\n",
    "#      'BATCH_SIZE': {\n",
    "#         # integers between 32 and 256\n",
    "#         # with evenly-distributed logarithms \n",
    "#         'distribution': 'q_log_uniform_values',\n",
    "#         'q': 8,\n",
    "#         'min': 32,\n",
    "#         'max': 96,\n",
    "#       },\n",
    "#     'INPUT_SHAPE': {\n",
    "#         'values': [(64, 64)]\n",
    "#     },\n",
    "#     'NUM_LAYERS': {\n",
    "#         'values': [1, 2]\n",
    "#     },\n",
    "#     'LR': {\n",
    "#         # a flat distribution between 0 and 0.1\n",
    "#         'distribution': 'uniform',\n",
    "#         'min': 0.004,\n",
    "#         'max': 0.04\n",
    "#       },\n",
    "#     'INTERMEDIARY_FILTERS': {\n",
    "#         'values': [8, 16, 32]\n",
    "#     }\n",
    "# }\n",
    "\n",
    "sweep_config['parameters'] = parameters_dict"
   ],
   "metadata": {
    "collapsed": false,
    "ExecuteTime": {
     "end_time": "2024-01-12T11:43:07.907521379Z",
     "start_time": "2024-01-12T11:43:07.878950902Z"
    }
   },
   "id": "5327707e87b8b25b"
  },
  {
   "cell_type": "code",
   "execution_count": 3,
   "outputs": [
    {
     "name": "stdout",
     "output_type": "stream",
     "text": [
      "Create sweep with ID: cstsi9oz\n",
      "Sweep URL: https://wandb.ai/georgerapeanu/cvdl/sweeps/cstsi9oz\n"
     ]
    }
   ],
   "source": [
    "sweep_id = wandb.sweep(sweep_config, project=\"cvdl\")"
   ],
   "metadata": {
    "collapsed": false,
    "ExecuteTime": {
     "end_time": "2024-01-12T11:43:10.123972032Z",
     "start_time": "2024-01-12T11:43:07.886045411Z"
    }
   },
   "id": "a1f70e21d7b2f1d3"
  },
  {
   "cell_type": "code",
   "execution_count": 4,
   "outputs": [],
   "source": [
    "def run_wandb():\n",
    "    with wandb.init():\n",
    "        train(None, wandb.config)"
   ],
   "metadata": {
    "collapsed": false,
    "ExecuteTime": {
     "end_time": "2024-01-12T11:43:10.146594166Z",
     "start_time": "2024-01-12T11:43:10.086467310Z"
    }
   },
   "id": "1de6070f3c99a7ff"
  },
  {
   "cell_type": "code",
   "execution_count": 5,
   "outputs": [
    {
     "name": "stderr",
     "output_type": "stream",
     "text": [
      "\u001B[34m\u001B[1mwandb\u001B[0m: Agent Starting Run: 11fx438a with config:\n",
      "\u001B[34m\u001B[1mwandb\u001B[0m: \tBATCH_SIZE: 32\n",
      "\u001B[34m\u001B[1mwandb\u001B[0m: \tINPUT_SHAPE: [64, 64]\n",
      "\u001B[34m\u001B[1mwandb\u001B[0m: \tINTERMEDIARY_FILTERS: 8\n",
      "\u001B[34m\u001B[1mwandb\u001B[0m: \tLR: 0.004\n",
      "\u001B[34m\u001B[1mwandb\u001B[0m: \tNUM_EPOCHS: 10\n",
      "\u001B[34m\u001B[1mwandb\u001B[0m: \tNUM_LAYERS: 2\n",
      "\u001B[34m\u001B[1mwandb\u001B[0m: Currently logged in as: \u001B[33mgeorgerapeanu\u001B[0m. Use \u001B[1m`wandb login --relogin`\u001B[0m to force relogin\n"
     ]
    },
    {
     "data": {
      "text/plain": "<IPython.core.display.HTML object>",
      "text/html": "wandb version 0.16.2 is available!  To upgrade, please run:\n $ pip install wandb --upgrade"
     },
     "metadata": {},
     "output_type": "display_data"
    },
    {
     "data": {
      "text/plain": "<IPython.core.display.HTML object>",
      "text/html": "Tracking run with wandb version 0.16.0"
     },
     "metadata": {},
     "output_type": "display_data"
    },
    {
     "data": {
      "text/plain": "<IPython.core.display.HTML object>",
      "text/html": "Run data is saved locally in <code>/home/georgerapeanu/Desktop/BBU-Computer-Science/Semester5/Computer Vision and Deep Learning/lab4/wandb/run-20240112_134312-11fx438a</code>"
     },
     "metadata": {},
     "output_type": "display_data"
    },
    {
     "data": {
      "text/plain": "<IPython.core.display.HTML object>",
      "text/html": "Syncing run <strong><a href='https://wandb.ai/georgerapeanu/cvdl/runs/11fx438a' target=\"_blank\">proud-sweep-1</a></strong> to <a href='https://wandb.ai/georgerapeanu/cvdl' target=\"_blank\">Weights & Biases</a> (<a href='https://wandb.me/run' target=\"_blank\">docs</a>)<br/>Sweep page: <a href='https://wandb.ai/georgerapeanu/cvdl/sweeps/cstsi9oz' target=\"_blank\">https://wandb.ai/georgerapeanu/cvdl/sweeps/cstsi9oz</a>"
     },
     "metadata": {},
     "output_type": "display_data"
    },
    {
     "data": {
      "text/plain": "<IPython.core.display.HTML object>",
      "text/html": " View project at <a href='https://wandb.ai/georgerapeanu/cvdl' target=\"_blank\">https://wandb.ai/georgerapeanu/cvdl</a>"
     },
     "metadata": {},
     "output_type": "display_data"
    },
    {
     "data": {
      "text/plain": "<IPython.core.display.HTML object>",
      "text/html": " View sweep at <a href='https://wandb.ai/georgerapeanu/cvdl/sweeps/cstsi9oz' target=\"_blank\">https://wandb.ai/georgerapeanu/cvdl/sweeps/cstsi9oz</a>"
     },
     "metadata": {},
     "output_type": "display_data"
    },
    {
     "data": {
      "text/plain": "<IPython.core.display.HTML object>",
      "text/html": " View run at <a href='https://wandb.ai/georgerapeanu/cvdl/runs/11fx438a' target=\"_blank\">https://wandb.ai/georgerapeanu/cvdl/runs/11fx438a</a>"
     },
     "metadata": {},
     "output_type": "display_data"
    },
    {
     "name": "stdout",
     "output_type": "stream",
     "text": [
      "Epoch [1/10], Train Loss: 0.5774, Validation Loss: 0.6068\n",
      "Epoch [2/10], Train Loss: 0.3522, Validation Loss: 0.4068\n",
      "Epoch [3/10], Train Loss: 0.3033, Validation Loss: 0.3795\n",
      "Epoch [4/10], Train Loss: 0.2689, Validation Loss: 0.4470\n",
      "Epoch [5/10], Train Loss: 0.2437, Validation Loss: 0.2421\n",
      "Epoch [6/10], Train Loss: 0.2187, Validation Loss: 0.2265\n",
      "Epoch [7/10], Train Loss: 0.2090, Validation Loss: 0.2215\n",
      "Epoch [8/10], Train Loss: 0.2006, Validation Loss: 0.2214\n",
      "Epoch [9/10], Train Loss: 0.1895, Validation Loss: 0.3020\n",
      "Epoch [10/10], Train Loss: 0.1906, Validation Loss: 0.2043\n"
     ]
    },
    {
     "data": {
      "text/plain": "<IPython.core.display.HTML object>",
      "text/html": "W&B sync reduced upload amount by 66.7%             "
     },
     "metadata": {},
     "output_type": "display_data"
    },
    {
     "data": {
      "text/plain": "<IPython.core.display.HTML object>",
      "text/html": "<style>\n    table.wandb td:nth-child(1) { padding: 0 10px; text-align: left ; width: auto;} td:nth-child(2) {text-align: left ; width: 100%}\n    .wandb-row { display: flex; flex-direction: row; flex-wrap: wrap; justify-content: flex-start; width: 100% }\n    .wandb-col { display: flex; flex-direction: column; flex-basis: 100%; flex: 1; padding: 10px; }\n    </style>\n<div class=\"wandb-row\"><div class=\"wandb-col\"><h3>Run history:</h3><br/><table class=\"wandb\"><tr><td>fw_intersection_over_union</td><td>▁▆▆▅▇███▇█</td></tr><tr><td>mean_intersection_over_union</td><td>▁▅▅▄▇███▇█</td></tr><tr><td>mean_pixel_accuracy</td><td>▁▅▆▅▇██▇▇█</td></tr><tr><td>train_loss</td><td>█▄▃▂▂▂▁▁▁▁</td></tr><tr><td>val_loss</td><td>█▅▄▅▂▁▁▁▃▁</td></tr></table><br/></div><div class=\"wandb-col\"><h3>Run summary:</h3><br/><table class=\"wandb\"><tr><td>fw_intersection_over_union</td><td>0.87038</td></tr><tr><td>mean_intersection_over_union</td><td>0.78342</td></tr><tr><td>mean_pixel_accuracy</td><td>0.85686</td></tr><tr><td>train_loss</td><td>0.19059</td></tr><tr><td>val_loss</td><td>0.20431</td></tr></table><br/></div></div>"
     },
     "metadata": {},
     "output_type": "display_data"
    },
    {
     "data": {
      "text/plain": "<IPython.core.display.HTML object>",
      "text/html": " View run <strong style=\"color:#cdcd00\">proud-sweep-1</strong> at: <a href='https://wandb.ai/georgerapeanu/cvdl/runs/11fx438a' target=\"_blank\">https://wandb.ai/georgerapeanu/cvdl/runs/11fx438a</a><br/>Synced 6 W&B file(s), 10 media file(s), 14981 artifact file(s) and 0 other file(s)"
     },
     "metadata": {},
     "output_type": "display_data"
    },
    {
     "data": {
      "text/plain": "<IPython.core.display.HTML object>",
      "text/html": "Find logs at: <code>./wandb/run-20240112_134312-11fx438a/logs</code>"
     },
     "metadata": {},
     "output_type": "display_data"
    },
    {
     "name": "stderr",
     "output_type": "stream",
     "text": [
      "\u001B[34m\u001B[1mwandb\u001B[0m: Agent Starting Run: 7hcvt7e5 with config:\n",
      "\u001B[34m\u001B[1mwandb\u001B[0m: \tBATCH_SIZE: 48\n",
      "\u001B[34m\u001B[1mwandb\u001B[0m: \tINPUT_SHAPE: [64, 64]\n",
      "\u001B[34m\u001B[1mwandb\u001B[0m: \tINTERMEDIARY_FILTERS: 8\n",
      "\u001B[34m\u001B[1mwandb\u001B[0m: \tLR: 0.004\n",
      "\u001B[34m\u001B[1mwandb\u001B[0m: \tNUM_EPOCHS: 10\n",
      "\u001B[34m\u001B[1mwandb\u001B[0m: \tNUM_LAYERS: 2\n"
     ]
    },
    {
     "data": {
      "text/plain": "<IPython.core.display.HTML object>",
      "text/html": "wandb version 0.16.2 is available!  To upgrade, please run:\n $ pip install wandb --upgrade"
     },
     "metadata": {},
     "output_type": "display_data"
    },
    {
     "data": {
      "text/plain": "<IPython.core.display.HTML object>",
      "text/html": "Tracking run with wandb version 0.16.0"
     },
     "metadata": {},
     "output_type": "display_data"
    },
    {
     "data": {
      "text/plain": "<IPython.core.display.HTML object>",
      "text/html": "Run data is saved locally in <code>/home/georgerapeanu/Desktop/BBU-Computer-Science/Semester5/Computer Vision and Deep Learning/lab4/wandb/run-20240112_134946-7hcvt7e5</code>"
     },
     "metadata": {},
     "output_type": "display_data"
    },
    {
     "data": {
      "text/plain": "<IPython.core.display.HTML object>",
      "text/html": "Syncing run <strong><a href='https://wandb.ai/georgerapeanu/cvdl/runs/7hcvt7e5' target=\"_blank\">sweet-sweep-4</a></strong> to <a href='https://wandb.ai/georgerapeanu/cvdl' target=\"_blank\">Weights & Biases</a> (<a href='https://wandb.me/run' target=\"_blank\">docs</a>)<br/>Sweep page: <a href='https://wandb.ai/georgerapeanu/cvdl/sweeps/cstsi9oz' target=\"_blank\">https://wandb.ai/georgerapeanu/cvdl/sweeps/cstsi9oz</a>"
     },
     "metadata": {},
     "output_type": "display_data"
    },
    {
     "data": {
      "text/plain": "<IPython.core.display.HTML object>",
      "text/html": " View project at <a href='https://wandb.ai/georgerapeanu/cvdl' target=\"_blank\">https://wandb.ai/georgerapeanu/cvdl</a>"
     },
     "metadata": {},
     "output_type": "display_data"
    },
    {
     "data": {
      "text/plain": "<IPython.core.display.HTML object>",
      "text/html": " View sweep at <a href='https://wandb.ai/georgerapeanu/cvdl/sweeps/cstsi9oz' target=\"_blank\">https://wandb.ai/georgerapeanu/cvdl/sweeps/cstsi9oz</a>"
     },
     "metadata": {},
     "output_type": "display_data"
    },
    {
     "data": {
      "text/plain": "<IPython.core.display.HTML object>",
      "text/html": " View run at <a href='https://wandb.ai/georgerapeanu/cvdl/runs/7hcvt7e5' target=\"_blank\">https://wandb.ai/georgerapeanu/cvdl/runs/7hcvt7e5</a>"
     },
     "metadata": {},
     "output_type": "display_data"
    },
    {
     "name": "stdout",
     "output_type": "stream",
     "text": [
      "Epoch [1/10], Train Loss: 0.6239, Validation Loss: 0.4148\n",
      "Epoch [2/10], Train Loss: 0.3762, Validation Loss: 0.3373\n",
      "Epoch [3/10], Train Loss: 0.3104, Validation Loss: 0.2929\n",
      "Epoch [4/10], Train Loss: 0.2697, Validation Loss: 0.2644\n",
      "Epoch [5/10], Train Loss: 0.2479, Validation Loss: 0.2728\n",
      "Epoch [6/10], Train Loss: 0.2303, Validation Loss: 0.2353\n",
      "Epoch [7/10], Train Loss: 0.2201, Validation Loss: 0.2342\n",
      "Epoch [8/10], Train Loss: 0.2097, Validation Loss: 0.2396\n",
      "Epoch [9/10], Train Loss: 0.2043, Validation Loss: 0.2086\n",
      "Epoch [10/10], Train Loss: 0.1936, Validation Loss: 0.2133\n"
     ]
    },
    {
     "data": {
      "text/plain": "<IPython.core.display.HTML object>",
      "text/html": "W&B sync reduced upload amount by 66.7%             "
     },
     "metadata": {},
     "output_type": "display_data"
    },
    {
     "data": {
      "text/plain": "<IPython.core.display.HTML object>",
      "text/html": "<style>\n    table.wandb td:nth-child(1) { padding: 0 10px; text-align: left ; width: auto;} td:nth-child(2) {text-align: left ; width: 100%}\n    .wandb-row { display: flex; flex-direction: row; flex-wrap: wrap; justify-content: flex-start; width: 100% }\n    .wandb-col { display: flex; flex-direction: column; flex-basis: 100%; flex: 1; padding: 10px; }\n    </style>\n<div class=\"wandb-row\"><div class=\"wandb-col\"><h3>Run history:</h3><br/><table class=\"wandb\"><tr><td>fw_intersection_over_union</td><td>▁▄▆▆▆▇▇▇██</td></tr><tr><td>mean_intersection_over_union</td><td>▁▄▆▆▆▇▇▇██</td></tr><tr><td>mean_pixel_accuracy</td><td>▁▅▆▇▇▇▇▆██</td></tr><tr><td>train_loss</td><td>█▄▃▂▂▂▁▁▁▁</td></tr><tr><td>val_loss</td><td>█▅▄▃▃▂▂▂▁▁</td></tr></table><br/></div><div class=\"wandb-col\"><h3>Run summary:</h3><br/><table class=\"wandb\"><tr><td>fw_intersection_over_union</td><td>0.86531</td></tr><tr><td>mean_intersection_over_union</td><td>0.77499</td></tr><tr><td>mean_pixel_accuracy</td><td>0.84295</td></tr><tr><td>train_loss</td><td>0.19357</td></tr><tr><td>val_loss</td><td>0.21333</td></tr></table><br/></div></div>"
     },
     "metadata": {},
     "output_type": "display_data"
    },
    {
     "data": {
      "text/plain": "<IPython.core.display.HTML object>",
      "text/html": " View run <strong style=\"color:#cdcd00\">sweet-sweep-4</strong> at: <a href='https://wandb.ai/georgerapeanu/cvdl/runs/7hcvt7e5' target=\"_blank\">https://wandb.ai/georgerapeanu/cvdl/runs/7hcvt7e5</a><br/>Synced 6 W&B file(s), 10 media file(s), 15014 artifact file(s) and 0 other file(s)"
     },
     "metadata": {},
     "output_type": "display_data"
    },
    {
     "data": {
      "text/plain": "<IPython.core.display.HTML object>",
      "text/html": "Find logs at: <code>./wandb/run-20240112_134946-7hcvt7e5/logs</code>"
     },
     "metadata": {},
     "output_type": "display_data"
    },
    {
     "name": "stderr",
     "output_type": "stream",
     "text": [
      "\u001B[34m\u001B[1mwandb\u001B[0m: Sweep Agent: Waiting for job.\n",
      "\u001B[34m\u001B[1mwandb\u001B[0m: Job received.\n",
      "\u001B[34m\u001B[1mwandb\u001B[0m: Agent Starting Run: wo5w8r0r with config:\n",
      "\u001B[34m\u001B[1mwandb\u001B[0m: \tBATCH_SIZE: 48\n",
      "\u001B[34m\u001B[1mwandb\u001B[0m: \tINPUT_SHAPE: [64, 64]\n",
      "\u001B[34m\u001B[1mwandb\u001B[0m: \tINTERMEDIARY_FILTERS: 8\n",
      "\u001B[34m\u001B[1mwandb\u001B[0m: \tLR: 0.01\n",
      "\u001B[34m\u001B[1mwandb\u001B[0m: \tNUM_EPOCHS: 10\n",
      "\u001B[34m\u001B[1mwandb\u001B[0m: \tNUM_LAYERS: 2\n"
     ]
    },
    {
     "data": {
      "text/plain": "<IPython.core.display.HTML object>",
      "text/html": "wandb version 0.16.2 is available!  To upgrade, please run:\n $ pip install wandb --upgrade"
     },
     "metadata": {},
     "output_type": "display_data"
    },
    {
     "data": {
      "text/plain": "<IPython.core.display.HTML object>",
      "text/html": "Tracking run with wandb version 0.16.0"
     },
     "metadata": {},
     "output_type": "display_data"
    },
    {
     "data": {
      "text/plain": "<IPython.core.display.HTML object>",
      "text/html": "Run data is saved locally in <code>/home/georgerapeanu/Desktop/BBU-Computer-Science/Semester5/Computer Vision and Deep Learning/lab4/wandb/run-20240112_135634-wo5w8r0r</code>"
     },
     "metadata": {},
     "output_type": "display_data"
    },
    {
     "data": {
      "text/plain": "<IPython.core.display.HTML object>",
      "text/html": "Syncing run <strong><a href='https://wandb.ai/georgerapeanu/cvdl/runs/wo5w8r0r' target=\"_blank\">laced-sweep-6</a></strong> to <a href='https://wandb.ai/georgerapeanu/cvdl' target=\"_blank\">Weights & Biases</a> (<a href='https://wandb.me/run' target=\"_blank\">docs</a>)<br/>Sweep page: <a href='https://wandb.ai/georgerapeanu/cvdl/sweeps/cstsi9oz' target=\"_blank\">https://wandb.ai/georgerapeanu/cvdl/sweeps/cstsi9oz</a>"
     },
     "metadata": {},
     "output_type": "display_data"
    },
    {
     "data": {
      "text/plain": "<IPython.core.display.HTML object>",
      "text/html": " View project at <a href='https://wandb.ai/georgerapeanu/cvdl' target=\"_blank\">https://wandb.ai/georgerapeanu/cvdl</a>"
     },
     "metadata": {},
     "output_type": "display_data"
    },
    {
     "data": {
      "text/plain": "<IPython.core.display.HTML object>",
      "text/html": " View sweep at <a href='https://wandb.ai/georgerapeanu/cvdl/sweeps/cstsi9oz' target=\"_blank\">https://wandb.ai/georgerapeanu/cvdl/sweeps/cstsi9oz</a>"
     },
     "metadata": {},
     "output_type": "display_data"
    },
    {
     "data": {
      "text/plain": "<IPython.core.display.HTML object>",
      "text/html": " View run at <a href='https://wandb.ai/georgerapeanu/cvdl/runs/wo5w8r0r' target=\"_blank\">https://wandb.ai/georgerapeanu/cvdl/runs/wo5w8r0r</a>"
     },
     "metadata": {},
     "output_type": "display_data"
    },
    {
     "name": "stdout",
     "output_type": "stream",
     "text": [
      "Epoch [1/10], Train Loss: 0.5946, Validation Loss: 0.5919\n",
      "Epoch [2/10], Train Loss: 0.3648, Validation Loss: 0.6994\n",
      "Epoch [3/10], Train Loss: 0.3239, Validation Loss: 0.3574\n",
      "Epoch [4/10], Train Loss: 0.2919, Validation Loss: 0.3064\n",
      "Epoch [5/10], Train Loss: 0.2738, Validation Loss: 0.2647\n",
      "Epoch [6/10], Train Loss: 0.2523, Validation Loss: 0.2643\n",
      "Epoch [7/10], Train Loss: 0.2448, Validation Loss: 0.2804\n",
      "Epoch [8/10], Train Loss: 0.2341, Validation Loss: 0.2543\n",
      "Epoch [9/10], Train Loss: 0.2228, Validation Loss: 0.2263\n",
      "Epoch [10/10], Train Loss: 0.2140, Validation Loss: 0.2255\n"
     ]
    },
    {
     "data": {
      "text/plain": "<IPython.core.display.HTML object>",
      "text/html": "W&B sync reduced upload amount by 66.9%             "
     },
     "metadata": {},
     "output_type": "display_data"
    },
    {
     "data": {
      "text/plain": "<IPython.core.display.HTML object>",
      "text/html": "<style>\n    table.wandb td:nth-child(1) { padding: 0 10px; text-align: left ; width: auto;} td:nth-child(2) {text-align: left ; width: 100%}\n    .wandb-row { display: flex; flex-direction: row; flex-wrap: wrap; justify-content: flex-start; width: 100% }\n    .wandb-col { display: flex; flex-direction: column; flex-basis: 100%; flex: 1; padding: 10px; }\n    </style>\n<div class=\"wandb-row\"><div class=\"wandb-col\"><h3>Run history:</h3><br/><table class=\"wandb\"><tr><td>fw_intersection_over_union</td><td>▂▁▆▇▇█▇███</td></tr><tr><td>mean_intersection_over_union</td><td>▂▁▆▇▇█▇███</td></tr><tr><td>mean_pixel_accuracy</td><td>▂▁▆▇▇█████</td></tr><tr><td>train_loss</td><td>█▄▃▂▂▂▂▁▁▁</td></tr><tr><td>val_loss</td><td>▆█▃▂▂▂▂▁▁▁</td></tr></table><br/></div><div class=\"wandb-col\"><h3>Run summary:</h3><br/><table class=\"wandb\"><tr><td>fw_intersection_over_union</td><td>0.85509</td></tr><tr><td>mean_intersection_over_union</td><td>0.76054</td></tr><tr><td>mean_pixel_accuracy</td><td>0.83653</td></tr><tr><td>train_loss</td><td>0.214</td></tr><tr><td>val_loss</td><td>0.22551</td></tr></table><br/></div></div>"
     },
     "metadata": {},
     "output_type": "display_data"
    },
    {
     "data": {
      "text/plain": "<IPython.core.display.HTML object>",
      "text/html": " View run <strong style=\"color:#cdcd00\">laced-sweep-6</strong> at: <a href='https://wandb.ai/georgerapeanu/cvdl/runs/wo5w8r0r' target=\"_blank\">https://wandb.ai/georgerapeanu/cvdl/runs/wo5w8r0r</a><br/>Synced 6 W&B file(s), 10 media file(s), 14948 artifact file(s) and 0 other file(s)"
     },
     "metadata": {},
     "output_type": "display_data"
    },
    {
     "data": {
      "text/plain": "<IPython.core.display.HTML object>",
      "text/html": "Find logs at: <code>./wandb/run-20240112_135634-wo5w8r0r/logs</code>"
     },
     "metadata": {},
     "output_type": "display_data"
    },
    {
     "name": "stderr",
     "output_type": "stream",
     "text": [
      "\u001B[34m\u001B[1mwandb\u001B[0m: Sweep Agent: Waiting for job.\n",
      "\u001B[34m\u001B[1mwandb\u001B[0m: Job received.\n",
      "\u001B[34m\u001B[1mwandb\u001B[0m: Agent Starting Run: bd33oyyp with config:\n",
      "\u001B[34m\u001B[1mwandb\u001B[0m: \tBATCH_SIZE: 64\n",
      "\u001B[34m\u001B[1mwandb\u001B[0m: \tINPUT_SHAPE: [64, 64]\n",
      "\u001B[34m\u001B[1mwandb\u001B[0m: \tINTERMEDIARY_FILTERS: 8\n",
      "\u001B[34m\u001B[1mwandb\u001B[0m: \tLR: 0.008\n",
      "\u001B[34m\u001B[1mwandb\u001B[0m: \tNUM_EPOCHS: 10\n",
      "\u001B[34m\u001B[1mwandb\u001B[0m: \tNUM_LAYERS: 2\n"
     ]
    },
    {
     "data": {
      "text/plain": "<IPython.core.display.HTML object>",
      "text/html": "wandb version 0.16.2 is available!  To upgrade, please run:\n $ pip install wandb --upgrade"
     },
     "metadata": {},
     "output_type": "display_data"
    },
    {
     "data": {
      "text/plain": "<IPython.core.display.HTML object>",
      "text/html": "Tracking run with wandb version 0.16.0"
     },
     "metadata": {},
     "output_type": "display_data"
    },
    {
     "data": {
      "text/plain": "<IPython.core.display.HTML object>",
      "text/html": "Run data is saved locally in <code>/home/georgerapeanu/Desktop/BBU-Computer-Science/Semester5/Computer Vision and Deep Learning/lab4/wandb/run-20240112_140331-bd33oyyp</code>"
     },
     "metadata": {},
     "output_type": "display_data"
    },
    {
     "data": {
      "text/plain": "<IPython.core.display.HTML object>",
      "text/html": "Syncing run <strong><a href='https://wandb.ai/georgerapeanu/cvdl/runs/bd33oyyp' target=\"_blank\">morning-sweep-8</a></strong> to <a href='https://wandb.ai/georgerapeanu/cvdl' target=\"_blank\">Weights & Biases</a> (<a href='https://wandb.me/run' target=\"_blank\">docs</a>)<br/>Sweep page: <a href='https://wandb.ai/georgerapeanu/cvdl/sweeps/cstsi9oz' target=\"_blank\">https://wandb.ai/georgerapeanu/cvdl/sweeps/cstsi9oz</a>"
     },
     "metadata": {},
     "output_type": "display_data"
    },
    {
     "data": {
      "text/plain": "<IPython.core.display.HTML object>",
      "text/html": " View project at <a href='https://wandb.ai/georgerapeanu/cvdl' target=\"_blank\">https://wandb.ai/georgerapeanu/cvdl</a>"
     },
     "metadata": {},
     "output_type": "display_data"
    },
    {
     "data": {
      "text/plain": "<IPython.core.display.HTML object>",
      "text/html": " View sweep at <a href='https://wandb.ai/georgerapeanu/cvdl/sweeps/cstsi9oz' target=\"_blank\">https://wandb.ai/georgerapeanu/cvdl/sweeps/cstsi9oz</a>"
     },
     "metadata": {},
     "output_type": "display_data"
    },
    {
     "data": {
      "text/plain": "<IPython.core.display.HTML object>",
      "text/html": " View run at <a href='https://wandb.ai/georgerapeanu/cvdl/runs/bd33oyyp' target=\"_blank\">https://wandb.ai/georgerapeanu/cvdl/runs/bd33oyyp</a>"
     },
     "metadata": {},
     "output_type": "display_data"
    },
    {
     "name": "stdout",
     "output_type": "stream",
     "text": [
      "Epoch [1/10], Train Loss: 0.8109, Validation Loss: 0.5202\n",
      "Epoch [2/10], Train Loss: 0.4179, Validation Loss: 0.3507\n",
      "Epoch [3/10], Train Loss: 0.3136, Validation Loss: 0.3134\n",
      "Epoch [4/10], Train Loss: 0.2823, Validation Loss: 0.2712\n",
      "Epoch [5/10], Train Loss: 0.2675, Validation Loss: 0.2614\n",
      "Epoch [6/10], Train Loss: 0.2466, Validation Loss: 0.2518\n",
      "Epoch [7/10], Train Loss: 0.2391, Validation Loss: 0.2570\n",
      "Epoch [8/10], Train Loss: 0.2283, Validation Loss: 0.2429\n",
      "Epoch [9/10], Train Loss: 0.2252, Validation Loss: 0.2995\n",
      "Epoch [10/10], Train Loss: 0.2330, Validation Loss: 0.2372\n"
     ]
    },
    {
     "data": {
      "text/plain": "<IPython.core.display.HTML object>",
      "text/html": "W&B sync reduced upload amount by 66.8%             "
     },
     "metadata": {},
     "output_type": "display_data"
    },
    {
     "data": {
      "text/plain": "<IPython.core.display.HTML object>",
      "text/html": "<style>\n    table.wandb td:nth-child(1) { padding: 0 10px; text-align: left ; width: auto;} td:nth-child(2) {text-align: left ; width: 100%}\n    .wandb-row { display: flex; flex-direction: row; flex-wrap: wrap; justify-content: flex-start; width: 100% }\n    .wandb-col { display: flex; flex-direction: column; flex-basis: 100%; flex: 1; padding: 10px; }\n    </style>\n<div class=\"wandb-row\"><div class=\"wandb-col\"><h3>Run history:</h3><br/><table class=\"wandb\"><tr><td>fw_intersection_over_union</td><td>▁▄▅▇▇▇▇█▅█</td></tr><tr><td>mean_intersection_over_union</td><td>▁▄▅▆▇▇▇▇▅█</td></tr><tr><td>mean_pixel_accuracy</td><td>▁▄▄▆▇▆▇▇▄█</td></tr><tr><td>train_loss</td><td>█▃▂▂▂▁▁▁▁▁</td></tr><tr><td>val_loss</td><td>█▄▃▂▂▁▁▁▃▁</td></tr></table><br/></div><div class=\"wandb-col\"><h3>Run summary:</h3><br/><table class=\"wandb\"><tr><td>fw_intersection_over_union</td><td>0.85263</td></tr><tr><td>mean_intersection_over_union</td><td>0.75299</td></tr><tr><td>mean_pixel_accuracy</td><td>0.83342</td></tr><tr><td>train_loss</td><td>0.233</td></tr><tr><td>val_loss</td><td>0.23722</td></tr></table><br/></div></div>"
     },
     "metadata": {},
     "output_type": "display_data"
    },
    {
     "data": {
      "text/plain": "<IPython.core.display.HTML object>",
      "text/html": " View run <strong style=\"color:#cdcd00\">morning-sweep-8</strong> at: <a href='https://wandb.ai/georgerapeanu/cvdl/runs/bd33oyyp' target=\"_blank\">https://wandb.ai/georgerapeanu/cvdl/runs/bd33oyyp</a><br/>Synced 6 W&B file(s), 10 media file(s), 15014 artifact file(s) and 0 other file(s)"
     },
     "metadata": {},
     "output_type": "display_data"
    },
    {
     "data": {
      "text/plain": "<IPython.core.display.HTML object>",
      "text/html": "Find logs at: <code>./wandb/run-20240112_140331-bd33oyyp/logs</code>"
     },
     "metadata": {},
     "output_type": "display_data"
    },
    {
     "name": "stderr",
     "output_type": "stream",
     "text": [
      "\u001B[34m\u001B[1mwandb\u001B[0m: Agent Starting Run: cyiw19sq with config:\n",
      "\u001B[34m\u001B[1mwandb\u001B[0m: \tBATCH_SIZE: 80\n",
      "\u001B[34m\u001B[1mwandb\u001B[0m: \tINPUT_SHAPE: [64, 64]\n",
      "\u001B[34m\u001B[1mwandb\u001B[0m: \tINTERMEDIARY_FILTERS: 8\n",
      "\u001B[34m\u001B[1mwandb\u001B[0m: \tLR: 0.008\n",
      "\u001B[34m\u001B[1mwandb\u001B[0m: \tNUM_EPOCHS: 10\n",
      "\u001B[34m\u001B[1mwandb\u001B[0m: \tNUM_LAYERS: 2\n"
     ]
    },
    {
     "data": {
      "text/plain": "<IPython.core.display.HTML object>",
      "text/html": "wandb version 0.16.2 is available!  To upgrade, please run:\n $ pip install wandb --upgrade"
     },
     "metadata": {},
     "output_type": "display_data"
    },
    {
     "data": {
      "text/plain": "<IPython.core.display.HTML object>",
      "text/html": "Tracking run with wandb version 0.16.0"
     },
     "metadata": {},
     "output_type": "display_data"
    },
    {
     "data": {
      "text/plain": "<IPython.core.display.HTML object>",
      "text/html": "Run data is saved locally in <code>/home/georgerapeanu/Desktop/BBU-Computer-Science/Semester5/Computer Vision and Deep Learning/lab4/wandb/run-20240112_141020-cyiw19sq</code>"
     },
     "metadata": {},
     "output_type": "display_data"
    },
    {
     "data": {
      "text/plain": "<IPython.core.display.HTML object>",
      "text/html": "Syncing run <strong><a href='https://wandb.ai/georgerapeanu/cvdl/runs/cyiw19sq' target=\"_blank\">driven-sweep-11</a></strong> to <a href='https://wandb.ai/georgerapeanu/cvdl' target=\"_blank\">Weights & Biases</a> (<a href='https://wandb.me/run' target=\"_blank\">docs</a>)<br/>Sweep page: <a href='https://wandb.ai/georgerapeanu/cvdl/sweeps/cstsi9oz' target=\"_blank\">https://wandb.ai/georgerapeanu/cvdl/sweeps/cstsi9oz</a>"
     },
     "metadata": {},
     "output_type": "display_data"
    },
    {
     "data": {
      "text/plain": "<IPython.core.display.HTML object>",
      "text/html": " View project at <a href='https://wandb.ai/georgerapeanu/cvdl' target=\"_blank\">https://wandb.ai/georgerapeanu/cvdl</a>"
     },
     "metadata": {},
     "output_type": "display_data"
    },
    {
     "data": {
      "text/plain": "<IPython.core.display.HTML object>",
      "text/html": " View sweep at <a href='https://wandb.ai/georgerapeanu/cvdl/sweeps/cstsi9oz' target=\"_blank\">https://wandb.ai/georgerapeanu/cvdl/sweeps/cstsi9oz</a>"
     },
     "metadata": {},
     "output_type": "display_data"
    },
    {
     "data": {
      "text/plain": "<IPython.core.display.HTML object>",
      "text/html": " View run at <a href='https://wandb.ai/georgerapeanu/cvdl/runs/cyiw19sq' target=\"_blank\">https://wandb.ai/georgerapeanu/cvdl/runs/cyiw19sq</a>"
     },
     "metadata": {},
     "output_type": "display_data"
    },
    {
     "name": "stdout",
     "output_type": "stream",
     "text": [
      "Epoch [1/10], Train Loss: 0.8336, Validation Loss: 0.6595\n",
      "Epoch [2/10], Train Loss: 0.5812, Validation Loss: 0.5108\n",
      "Epoch [3/10], Train Loss: 0.4405, Validation Loss: 0.4378\n",
      "Epoch [4/10], Train Loss: 0.3513, Validation Loss: 0.4145\n",
      "Epoch [5/10], Train Loss: 0.3005, Validation Loss: 0.2942\n",
      "Epoch [6/10], Train Loss: 0.2739, Validation Loss: 0.2843\n",
      "Epoch [7/10], Train Loss: 0.2560, Validation Loss: 0.2555\n",
      "Epoch [8/10], Train Loss: 0.2417, Validation Loss: 0.2773\n",
      "Epoch [9/10], Train Loss: 0.2293, Validation Loss: 0.2492\n",
      "Epoch [10/10], Train Loss: 0.2200, Validation Loss: 0.2371\n"
     ]
    },
    {
     "data": {
      "text/plain": "<IPython.core.display.HTML object>",
      "text/html": "W&B sync reduced upload amount by 66.8%             "
     },
     "metadata": {},
     "output_type": "display_data"
    },
    {
     "data": {
      "text/plain": "<IPython.core.display.HTML object>",
      "text/html": "<style>\n    table.wandb td:nth-child(1) { padding: 0 10px; text-align: left ; width: auto;} td:nth-child(2) {text-align: left ; width: 100%}\n    .wandb-row { display: flex; flex-direction: row; flex-wrap: wrap; justify-content: flex-start; width: 100% }\n    .wandb-col { display: flex; flex-direction: column; flex-basis: 100%; flex: 1; padding: 10px; }\n    </style>\n<div class=\"wandb-row\"><div class=\"wandb-col\"><h3>Run history:</h3><br/><table class=\"wandb\"><tr><td>fw_intersection_over_union</td><td>▁▃▅▅▇▇▇▇██</td></tr><tr><td>mean_intersection_over_union</td><td>▁▂▅▅▇▇█▇██</td></tr><tr><td>mean_pixel_accuracy</td><td>▁▃▅▆▇▇▇▇██</td></tr><tr><td>train_loss</td><td>█▅▄▂▂▂▁▁▁▁</td></tr><tr><td>val_loss</td><td>█▆▄▄▂▂▁▂▁▁</td></tr></table><br/></div><div class=\"wandb-col\"><h3>Run summary:</h3><br/><table class=\"wandb\"><tr><td>fw_intersection_over_union</td><td>0.85687</td></tr><tr><td>mean_intersection_over_union</td><td>0.76353</td></tr><tr><td>mean_pixel_accuracy</td><td>0.84414</td></tr><tr><td>train_loss</td><td>0.21997</td></tr><tr><td>val_loss</td><td>0.23712</td></tr></table><br/></div></div>"
     },
     "metadata": {},
     "output_type": "display_data"
    },
    {
     "data": {
      "text/plain": "<IPython.core.display.HTML object>",
      "text/html": " View run <strong style=\"color:#cdcd00\">driven-sweep-11</strong> at: <a href='https://wandb.ai/georgerapeanu/cvdl/runs/cyiw19sq' target=\"_blank\">https://wandb.ai/georgerapeanu/cvdl/runs/cyiw19sq</a><br/>Synced 6 W&B file(s), 10 media file(s), 15014 artifact file(s) and 0 other file(s)"
     },
     "metadata": {},
     "output_type": "display_data"
    },
    {
     "data": {
      "text/plain": "<IPython.core.display.HTML object>",
      "text/html": "Find logs at: <code>./wandb/run-20240112_141020-cyiw19sq/logs</code>"
     },
     "metadata": {},
     "output_type": "display_data"
    },
    {
     "name": "stderr",
     "output_type": "stream",
     "text": [
      "\u001B[34m\u001B[1mwandb\u001B[0m: Sweep Agent: Waiting for job.\n",
      "\u001B[34m\u001B[1mwandb\u001B[0m: Job received.\n",
      "\u001B[34m\u001B[1mwandb\u001B[0m: Agent Starting Run: ojflc06d with config:\n",
      "\u001B[34m\u001B[1mwandb\u001B[0m: \tBATCH_SIZE: 96\n",
      "\u001B[34m\u001B[1mwandb\u001B[0m: \tINPUT_SHAPE: [64, 64]\n",
      "\u001B[34m\u001B[1mwandb\u001B[0m: \tINTERMEDIARY_FILTERS: 8\n",
      "\u001B[34m\u001B[1mwandb\u001B[0m: \tLR: 0.004\n",
      "\u001B[34m\u001B[1mwandb\u001B[0m: \tNUM_EPOCHS: 10\n",
      "\u001B[34m\u001B[1mwandb\u001B[0m: \tNUM_LAYERS: 2\n"
     ]
    },
    {
     "data": {
      "text/plain": "<IPython.core.display.HTML object>",
      "text/html": "wandb version 0.16.2 is available!  To upgrade, please run:\n $ pip install wandb --upgrade"
     },
     "metadata": {},
     "output_type": "display_data"
    },
    {
     "data": {
      "text/plain": "<IPython.core.display.HTML object>",
      "text/html": "Tracking run with wandb version 0.16.0"
     },
     "metadata": {},
     "output_type": "display_data"
    },
    {
     "data": {
      "text/plain": "<IPython.core.display.HTML object>",
      "text/html": "Run data is saved locally in <code>/home/georgerapeanu/Desktop/BBU-Computer-Science/Semester5/Computer Vision and Deep Learning/lab4/wandb/run-20240112_141719-ojflc06d</code>"
     },
     "metadata": {},
     "output_type": "display_data"
    },
    {
     "data": {
      "text/plain": "<IPython.core.display.HTML object>",
      "text/html": "Syncing run <strong><a href='https://wandb.ai/georgerapeanu/cvdl/runs/ojflc06d' target=\"_blank\">silver-sweep-13</a></strong> to <a href='https://wandb.ai/georgerapeanu/cvdl' target=\"_blank\">Weights & Biases</a> (<a href='https://wandb.me/run' target=\"_blank\">docs</a>)<br/>Sweep page: <a href='https://wandb.ai/georgerapeanu/cvdl/sweeps/cstsi9oz' target=\"_blank\">https://wandb.ai/georgerapeanu/cvdl/sweeps/cstsi9oz</a>"
     },
     "metadata": {},
     "output_type": "display_data"
    },
    {
     "data": {
      "text/plain": "<IPython.core.display.HTML object>",
      "text/html": " View project at <a href='https://wandb.ai/georgerapeanu/cvdl' target=\"_blank\">https://wandb.ai/georgerapeanu/cvdl</a>"
     },
     "metadata": {},
     "output_type": "display_data"
    },
    {
     "data": {
      "text/plain": "<IPython.core.display.HTML object>",
      "text/html": " View sweep at <a href='https://wandb.ai/georgerapeanu/cvdl/sweeps/cstsi9oz' target=\"_blank\">https://wandb.ai/georgerapeanu/cvdl/sweeps/cstsi9oz</a>"
     },
     "metadata": {},
     "output_type": "display_data"
    },
    {
     "data": {
      "text/plain": "<IPython.core.display.HTML object>",
      "text/html": " View run at <a href='https://wandb.ai/georgerapeanu/cvdl/runs/ojflc06d' target=\"_blank\">https://wandb.ai/georgerapeanu/cvdl/runs/ojflc06d</a>"
     },
     "metadata": {},
     "output_type": "display_data"
    },
    {
     "name": "stdout",
     "output_type": "stream",
     "text": [
      "Epoch [1/10], Train Loss: 0.7762, Validation Loss: 0.7307\n",
      "Epoch [2/10], Train Loss: 0.5292, Validation Loss: 0.4627\n",
      "Epoch [3/10], Train Loss: 0.4017, Validation Loss: 0.3957\n",
      "Epoch [4/10], Train Loss: 0.3258, Validation Loss: 0.3866\n",
      "Epoch [5/10], Train Loss: 0.2806, Validation Loss: 0.2911\n",
      "Epoch [6/10], Train Loss: 0.2531, Validation Loss: 0.2532\n",
      "Epoch [7/10], Train Loss: 0.2364, Validation Loss: 0.2533\n",
      "Epoch [8/10], Train Loss: 0.2207, Validation Loss: 0.2292\n",
      "Epoch [9/10], Train Loss: 0.2144, Validation Loss: 0.2435\n",
      "Epoch [10/10], Train Loss: 0.2060, Validation Loss: 0.2201\n"
     ]
    },
    {
     "data": {
      "text/plain": "<IPython.core.display.HTML object>",
      "text/html": "W&B sync reduced upload amount by 67.1%             "
     },
     "metadata": {},
     "output_type": "display_data"
    },
    {
     "data": {
      "text/plain": "<IPython.core.display.HTML object>",
      "text/html": "<style>\n    table.wandb td:nth-child(1) { padding: 0 10px; text-align: left ; width: auto;} td:nth-child(2) {text-align: left ; width: 100%}\n    .wandb-row { display: flex; flex-direction: row; flex-wrap: wrap; justify-content: flex-start; width: 100% }\n    .wandb-col { display: flex; flex-direction: column; flex-basis: 100%; flex: 1; padding: 10px; }\n    </style>\n<div class=\"wandb-row\"><div class=\"wandb-col\"><h3>Run history:</h3><br/><table class=\"wandb\"><tr><td>fw_intersection_over_union</td><td>▁▆▆▆▇█████</td></tr><tr><td>mean_intersection_over_union</td><td>▁▆▆▆▇█████</td></tr><tr><td>mean_pixel_accuracy</td><td>▁▆▆▆▇▇██▇█</td></tr><tr><td>train_loss</td><td>█▅▃▂▂▂▁▁▁▁</td></tr><tr><td>val_loss</td><td>█▄▃▃▂▁▁▁▁▁</td></tr></table><br/></div><div class=\"wandb-col\"><h3>Run summary:</h3><br/><table class=\"wandb\"><tr><td>fw_intersection_over_union</td><td>0.86451</td></tr><tr><td>mean_intersection_over_union</td><td>0.77601</td></tr><tr><td>mean_pixel_accuracy</td><td>0.84964</td></tr><tr><td>train_loss</td><td>0.20595</td></tr><tr><td>val_loss</td><td>0.22015</td></tr></table><br/></div></div>"
     },
     "metadata": {},
     "output_type": "display_data"
    },
    {
     "data": {
      "text/plain": "<IPython.core.display.HTML object>",
      "text/html": " View run <strong style=\"color:#cdcd00\">silver-sweep-13</strong> at: <a href='https://wandb.ai/georgerapeanu/cvdl/runs/ojflc06d' target=\"_blank\">https://wandb.ai/georgerapeanu/cvdl/runs/ojflc06d</a><br/>Synced 6 W&B file(s), 10 media file(s), 14947 artifact file(s) and 0 other file(s)"
     },
     "metadata": {},
     "output_type": "display_data"
    },
    {
     "data": {
      "text/plain": "<IPython.core.display.HTML object>",
      "text/html": "Find logs at: <code>./wandb/run-20240112_141719-ojflc06d/logs</code>"
     },
     "metadata": {},
     "output_type": "display_data"
    },
    {
     "name": "stderr",
     "output_type": "stream",
     "text": [
      "\u001B[34m\u001B[1mwandb\u001B[0m: Agent Starting Run: 9z7y3jmd with config:\n",
      "\u001B[34m\u001B[1mwandb\u001B[0m: \tBATCH_SIZE: 96\n",
      "\u001B[34m\u001B[1mwandb\u001B[0m: \tINPUT_SHAPE: [64, 64]\n",
      "\u001B[34m\u001B[1mwandb\u001B[0m: \tINTERMEDIARY_FILTERS: 8\n",
      "\u001B[34m\u001B[1mwandb\u001B[0m: \tLR: 0.01\n",
      "\u001B[34m\u001B[1mwandb\u001B[0m: \tNUM_EPOCHS: 10\n",
      "\u001B[34m\u001B[1mwandb\u001B[0m: \tNUM_LAYERS: 2\n"
     ]
    },
    {
     "data": {
      "text/plain": "<IPython.core.display.HTML object>",
      "text/html": "wandb version 0.16.2 is available!  To upgrade, please run:\n $ pip install wandb --upgrade"
     },
     "metadata": {},
     "output_type": "display_data"
    },
    {
     "data": {
      "text/plain": "<IPython.core.display.HTML object>",
      "text/html": "Tracking run with wandb version 0.16.0"
     },
     "metadata": {},
     "output_type": "display_data"
    },
    {
     "data": {
      "text/plain": "<IPython.core.display.HTML object>",
      "text/html": "Run data is saved locally in <code>/home/georgerapeanu/Desktop/BBU-Computer-Science/Semester5/Computer Vision and Deep Learning/lab4/wandb/run-20240112_142235-9z7y3jmd</code>"
     },
     "metadata": {},
     "output_type": "display_data"
    },
    {
     "data": {
      "text/plain": "<IPython.core.display.HTML object>",
      "text/html": "Syncing run <strong><a href='https://wandb.ai/georgerapeanu/cvdl/runs/9z7y3jmd' target=\"_blank\">pious-sweep-15</a></strong> to <a href='https://wandb.ai/georgerapeanu/cvdl' target=\"_blank\">Weights & Biases</a> (<a href='https://wandb.me/run' target=\"_blank\">docs</a>)<br/>Sweep page: <a href='https://wandb.ai/georgerapeanu/cvdl/sweeps/cstsi9oz' target=\"_blank\">https://wandb.ai/georgerapeanu/cvdl/sweeps/cstsi9oz</a>"
     },
     "metadata": {},
     "output_type": "display_data"
    },
    {
     "data": {
      "text/plain": "<IPython.core.display.HTML object>",
      "text/html": " View project at <a href='https://wandb.ai/georgerapeanu/cvdl' target=\"_blank\">https://wandb.ai/georgerapeanu/cvdl</a>"
     },
     "metadata": {},
     "output_type": "display_data"
    },
    {
     "data": {
      "text/plain": "<IPython.core.display.HTML object>",
      "text/html": " View sweep at <a href='https://wandb.ai/georgerapeanu/cvdl/sweeps/cstsi9oz' target=\"_blank\">https://wandb.ai/georgerapeanu/cvdl/sweeps/cstsi9oz</a>"
     },
     "metadata": {},
     "output_type": "display_data"
    },
    {
     "data": {
      "text/plain": "<IPython.core.display.HTML object>",
      "text/html": " View run at <a href='https://wandb.ai/georgerapeanu/cvdl/runs/9z7y3jmd' target=\"_blank\">https://wandb.ai/georgerapeanu/cvdl/runs/9z7y3jmd</a>"
     },
     "metadata": {},
     "output_type": "display_data"
    },
    {
     "name": "stdout",
     "output_type": "stream",
     "text": [
      "Epoch [1/10], Train Loss: 0.6302, Validation Loss: 0.5812\n",
      "Epoch [2/10], Train Loss: 0.4369, Validation Loss: 0.4429\n",
      "Epoch [3/10], Train Loss: 0.3798, Validation Loss: 0.4213\n",
      "Epoch [4/10], Train Loss: 0.3360, Validation Loss: 0.3733\n",
      "Epoch [5/10], Train Loss: 0.3039, Validation Loss: 0.3295\n",
      "Epoch [6/10], Train Loss: 0.2746, Validation Loss: 0.4610\n",
      "Epoch [7/10], Train Loss: 0.2601, Validation Loss: 0.3150\n",
      "Epoch [8/10], Train Loss: 0.2454, Validation Loss: 0.3667\n",
      "Epoch [9/10], Train Loss: 0.2370, Validation Loss: 0.2506\n",
      "Epoch [10/10], Train Loss: 0.2290, Validation Loss: 0.2477\n"
     ]
    },
    {
     "data": {
      "text/plain": "<IPython.core.display.HTML object>",
      "text/html": "W&B sync reduced upload amount by 66.8%             "
     },
     "metadata": {},
     "output_type": "display_data"
    },
    {
     "data": {
      "text/plain": "<IPython.core.display.HTML object>",
      "text/html": "<style>\n    table.wandb td:nth-child(1) { padding: 0 10px; text-align: left ; width: auto;} td:nth-child(2) {text-align: left ; width: 100%}\n    .wandb-row { display: flex; flex-direction: row; flex-wrap: wrap; justify-content: flex-start; width: 100% }\n    .wandb-col { display: flex; flex-direction: column; flex-basis: 100%; flex: 1; padding: 10px; }\n    </style>\n<div class=\"wandb-row\"><div class=\"wandb-col\"><h3>Run history:</h3><br/><table class=\"wandb\"><tr><td>fw_intersection_over_union</td><td>▁▃▃▆▆▃▆▅██</td></tr><tr><td>mean_intersection_over_union</td><td>▁▂▂▆▇▃▆▅██</td></tr><tr><td>mean_pixel_accuracy</td><td>▁▂▁▆█▄▇▇██</td></tr><tr><td>train_loss</td><td>█▅▄▃▂▂▂▁▁▁</td></tr><tr><td>val_loss</td><td>█▅▅▄▃▅▂▃▁▁</td></tr></table><br/></div><div class=\"wandb-col\"><h3>Run summary:</h3><br/><table class=\"wandb\"><tr><td>fw_intersection_over_union</td><td>0.84495</td></tr><tr><td>mean_intersection_over_union</td><td>0.73738</td></tr><tr><td>mean_pixel_accuracy</td><td>0.80479</td></tr><tr><td>train_loss</td><td>0.22895</td></tr><tr><td>val_loss</td><td>0.24771</td></tr></table><br/></div></div>"
     },
     "metadata": {},
     "output_type": "display_data"
    },
    {
     "data": {
      "text/plain": "<IPython.core.display.HTML object>",
      "text/html": " View run <strong style=\"color:#cdcd00\">pious-sweep-15</strong> at: <a href='https://wandb.ai/georgerapeanu/cvdl/runs/9z7y3jmd' target=\"_blank\">https://wandb.ai/georgerapeanu/cvdl/runs/9z7y3jmd</a><br/>Synced 6 W&B file(s), 10 media file(s), 15014 artifact file(s) and 0 other file(s)"
     },
     "metadata": {},
     "output_type": "display_data"
    },
    {
     "data": {
      "text/plain": "<IPython.core.display.HTML object>",
      "text/html": "Find logs at: <code>./wandb/run-20240112_142235-9z7y3jmd/logs</code>"
     },
     "metadata": {},
     "output_type": "display_data"
    },
    {
     "name": "stderr",
     "output_type": "stream",
     "text": [
      "\u001B[34m\u001B[1mwandb\u001B[0m: Sweep Agent: Waiting for job.\n",
      "\u001B[34m\u001B[1mwandb\u001B[0m: Sweep Agent: Exiting.\n"
     ]
    }
   ],
   "source": [
    "wandb.agent(sweep_id, run_wandb, project=\"cvdl\")RuntimeError: Can't redefine method: forward on class: __torch__.model.___torch_mangle_35.UNet (of Python compilation unit at: 0x5638a008b5a0)"
   ],
   "metadata": {
    "collapsed": false,
    "ExecuteTime": {
     "end_time": "2024-01-12T12:28:08.613170706Z",
     "start_time": "2024-01-12T11:43:10.107652571Z"
    }
   },
   "id": "b78ede3949e0e91"
  },
  {
   "cell_type": "code",
   "execution_count": 2,
   "outputs": [
    {
     "name": "stderr",
     "output_type": "stream",
     "text": [
      "\u001B[34m\u001B[1mwandb\u001B[0m: Currently logged in as: \u001B[33mgeorgerapeanu\u001B[0m. Use \u001B[1m`wandb login --relogin`\u001B[0m to force relogin\n"
     ]
    },
    {
     "data": {
      "text/plain": "<IPython.core.display.HTML object>",
      "text/html": "wandb version 0.16.2 is available!  To upgrade, please run:\n $ pip install wandb --upgrade"
     },
     "metadata": {},
     "output_type": "display_data"
    },
    {
     "data": {
      "text/plain": "<IPython.core.display.HTML object>",
      "text/html": "Tracking run with wandb version 0.16.0"
     },
     "metadata": {},
     "output_type": "display_data"
    },
    {
     "data": {
      "text/plain": "<IPython.core.display.HTML object>",
      "text/html": "Run data is saved locally in <code>/home/georgerapeanu/Desktop/BBU-Computer-Science/Semester5/Computer Vision and Deep Learning/lab4/wandb/run-20240111_162042-zgr9dqa3</code>"
     },
     "metadata": {},
     "output_type": "display_data"
    },
    {
     "data": {
      "text/plain": "<IPython.core.display.HTML object>",
      "text/html": "Syncing run <strong><a href='https://wandb.ai/georgerapeanu/cvdl/runs/zgr9dqa3' target=\"_blank\">restful-yogurt-119</a></strong> to <a href='https://wandb.ai/georgerapeanu/cvdl' target=\"_blank\">Weights & Biases</a> (<a href='https://wandb.me/run' target=\"_blank\">docs</a>)<br/>"
     },
     "metadata": {},
     "output_type": "display_data"
    },
    {
     "data": {
      "text/plain": "<IPython.core.display.HTML object>",
      "text/html": " View project at <a href='https://wandb.ai/georgerapeanu/cvdl' target=\"_blank\">https://wandb.ai/georgerapeanu/cvdl</a>"
     },
     "metadata": {},
     "output_type": "display_data"
    },
    {
     "data": {
      "text/plain": "<IPython.core.display.HTML object>",
      "text/html": " View run at <a href='https://wandb.ai/georgerapeanu/cvdl/runs/zgr9dqa3' target=\"_blank\">https://wandb.ai/georgerapeanu/cvdl/runs/zgr9dqa3</a>"
     },
     "metadata": {},
     "output_type": "display_data"
    },
    {
     "data": {
      "text/html": "<button onClick=\"this.nextSibling.style.display='block';this.style.display='none';\">Display W&B run</button><iframe src='https://wandb.ai/georgerapeanu/cvdl/runs/zgr9dqa3?jupyter=true' style='border:none;width:100%;height:420px;display:none;'></iframe>",
      "text/plain": "<wandb.sdk.wandb_run.Run at 0x7ffac5380d30>"
     },
     "execution_count": 2,
     "metadata": {},
     "output_type": "execute_result"
    }
   ],
   "source": [
    "wandb.init(\n",
    "    # set the wandb project where this run will be logged\n",
    "    project=\"cvdl\",\n",
    "    \n",
    "    # track hyperparameters and run metadata\n",
    "    config={\n",
    "        'NUM_EPOCHS': 10,\n",
    "        'BATCH_SIZE': 32,\n",
    "        'INPUT_SHAPE': (64, 64),\n",
    "        'NUM_LAYERS': 1,\n",
    "        'LR': 0.0713\n",
    "    }\n",
    ")\n"
   ],
   "metadata": {
    "collapsed": false,
    "ExecuteTime": {
     "end_time": "2024-01-11T14:20:48.051910930Z",
     "start_time": "2024-01-11T14:20:39.488526408Z"
    }
   },
   "id": "823785a40aba94f"
  },
  {
   "cell_type": "code",
   "execution_count": 3,
   "outputs": [
    {
     "data": {
      "text/plain": "{'NUM_EPOCHS': 10, 'BATCH_SIZE': 32, 'INPUT_SHAPE': [64, 64], 'NUM_LAYERS': 1, 'LR': 0.0713}"
     },
     "execution_count": 3,
     "metadata": {},
     "output_type": "execute_result"
    }
   ],
   "source": [
    "wandb.config\n"
   ],
   "metadata": {
    "collapsed": false,
    "ExecuteTime": {
     "end_time": "2024-01-11T14:20:48.085297833Z",
     "start_time": "2024-01-11T14:20:48.009571374Z"
    }
   },
   "id": "a209ed6c9e0101f4"
  },
  {
   "cell_type": "code",
   "execution_count": 4,
   "outputs": [],
   "source": [
    "NUM_EPOCHS = 100\n",
    "BATCH_SIZE= 128\n",
    "INPUT_SHAPE = (64, 64)\n",
    "NUM_LAYERS = 2\n",
    "LR = 0.01\n",
    "\n",
    "ARTIFACTS_PATH='./artifacts'\n",
    "BASE_PATH=\"./lfw_dataset\""
   ],
   "metadata": {
    "collapsed": false,
    "ExecuteTime": {
     "end_time": "2024-01-11T14:20:48.159448123Z",
     "start_time": "2024-01-11T14:20:48.026307077Z"
    }
   },
   "id": "dd344063706b1cd9"
  },
  {
   "cell_type": "code",
   "execution_count": null,
   "outputs": [],
   "source": [
    "train(None, wandb.config)"
   ],
   "metadata": {
    "collapsed": false
   },
   "id": "19e72edffb7a25b2"
  },
  {
   "cell_type": "code",
   "execution_count": null,
   "outputs": [],
   "source": [
    "wandb.finish()"
   ],
   "metadata": {
    "collapsed": false
   },
   "id": "7d2fb092bc62811"
  },
  {
   "cell_type": "code",
   "execution_count": null,
   "outputs": [],
   "source": [],
   "metadata": {
    "collapsed": false
   },
   "id": "3ddedf1d6d6043ce"
  },
  {
   "cell_type": "code",
   "execution_count": 7,
   "outputs": [
    {
     "ename": "KeyboardInterrupt",
     "evalue": "",
     "output_type": "error",
     "traceback": [
      "\u001B[0;31m---------------------------------------------------------------------------\u001B[0m",
      "\u001B[0;31mKeyboardInterrupt\u001B[0m                         Traceback (most recent call last)",
      "Cell \u001B[0;32mIn[7], line 1\u001B[0m\n\u001B[0;32m----> 1\u001B[0m ds \u001B[38;5;241m=\u001B[39m \u001B[43mLFWDataset\u001B[49m\u001B[43m(\u001B[49m\u001B[43mBASE_PATH\u001B[49m\u001B[43m,\u001B[49m\u001B[43m \u001B[49m\u001B[43mtransforms\u001B[49m\u001B[38;5;241;43m=\u001B[39;49m\u001B[43mtransform_generator\u001B[49m\u001B[43m(\u001B[49m\u001B[43mINPUT_SHAPE\u001B[49m\u001B[43m)\u001B[49m\u001B[43m,\u001B[49m\u001B[43m \u001B[49m\u001B[43msplit_name\u001B[49m\u001B[38;5;241;43m=\u001B[39;49m\u001B[38;5;124;43m'\u001B[39;49m\u001B[38;5;124;43mtest\u001B[39;49m\u001B[38;5;124;43m'\u001B[39;49m\u001B[43m,\u001B[49m\u001B[43m \u001B[49m\u001B[43mdownload\u001B[49m\u001B[38;5;241;43m=\u001B[39;49m\u001B[38;5;28;43;01mFalse\u001B[39;49;00m\u001B[43m)\u001B[49m\n\u001B[1;32m      2\u001B[0m model\u001B[38;5;241m.\u001B[39meval()\n\u001B[1;32m      4\u001B[0m X, y \u001B[38;5;241m=\u001B[39m ds[\u001B[38;5;241m2\u001B[39m]\n",
      "File \u001B[0;32m~/Desktop/BBU-Computer-Science/Semester5/Computer Vision and Deep Learning/lab4/lfw_dataset.py:40\u001B[0m, in \u001B[0;36mLFWDataset.__init__\u001B[0;34m(self, base_folder, transforms, download, split_name)\u001B[0m\n\u001B[1;32m     38\u001B[0m raw_file_path \u001B[38;5;241m=\u001B[39m \u001B[38;5;124mf\u001B[39m\u001B[38;5;124m\"\u001B[39m\u001B[38;5;132;01m{\u001B[39;00mbase_folder\u001B[38;5;132;01m}\u001B[39;00m\u001B[38;5;124m/lfw_funneled/\u001B[39m\u001B[38;5;132;01m{\u001B[39;00mname\u001B[38;5;132;01m}\u001B[39;00m\u001B[38;5;124m/\u001B[39m\u001B[38;5;132;01m{\u001B[39;00mname\u001B[38;5;132;01m}\u001B[39;00m\u001B[38;5;124m_\u001B[39m\u001B[38;5;132;01m{\u001B[39;00mnumber\u001B[38;5;132;01m}\u001B[39;00m\u001B[38;5;124m.jpg\u001B[39m\u001B[38;5;124m\"\u001B[39m\n\u001B[1;32m     39\u001B[0m feature_file_path \u001B[38;5;241m=\u001B[39m \u001B[38;5;124mf\u001B[39m\u001B[38;5;124m\"\u001B[39m\u001B[38;5;132;01m{\u001B[39;00mbase_folder\u001B[38;5;132;01m}\u001B[39;00m\u001B[38;5;124m/parts_lfw_funneled_gt_images/\u001B[39m\u001B[38;5;132;01m{\u001B[39;00mname\u001B[38;5;132;01m}\u001B[39;00m\u001B[38;5;124m_\u001B[39m\u001B[38;5;132;01m{\u001B[39;00mnumber\u001B[38;5;132;01m}\u001B[39;00m\u001B[38;5;124m.ppm\u001B[39m\u001B[38;5;124m\"\u001B[39m\n\u001B[0;32m---> 40\u001B[0m \u001B[38;5;28mself\u001B[39m\u001B[38;5;241m.\u001B[39mX\u001B[38;5;241m.\u001B[39mappend(\u001B[43mcv2\u001B[49m\u001B[38;5;241;43m.\u001B[39;49m\u001B[43mimread\u001B[49m\u001B[43m(\u001B[49m\u001B[43mraw_file_path\u001B[49m\u001B[43m)\u001B[49m)\n\u001B[1;32m     41\u001B[0m \u001B[38;5;28mself\u001B[39m\u001B[38;5;241m.\u001B[39mY\u001B[38;5;241m.\u001B[39mappend(cv2\u001B[38;5;241m.\u001B[39mcvtColor(np\u001B[38;5;241m.\u001B[39marray(Image\u001B[38;5;241m.\u001B[39mopen(feature_file_path)), cv2\u001B[38;5;241m.\u001B[39mCOLOR_RGB2BGR))\n\u001B[1;32m     43\u001B[0m \u001B[38;5;28;01mif\u001B[39;00m transforms \u001B[38;5;129;01mis\u001B[39;00m \u001B[38;5;129;01mnot\u001B[39;00m \u001B[38;5;28;01mNone\u001B[39;00m :\n",
      "\u001B[0;31mKeyboardInterrupt\u001B[0m: "
     ]
    }
   ],
   "source": [
    "ds = LFWDataset(BASE_PATH, transforms=transform_generator(INPUT_SHAPE), split_name='test', download=False)\n",
    "model.eval()\n",
    "\n",
    "X, y = ds[2]\n",
    "model_y = model(X.view(-1, *X.shape))\n",
    "model_y = torch.nn.functional.interpolate(model_y, size=tuple(y.shape))\n",
    "model_y = model_y.view(-1, *y.shape).argmax(dim=0)\n",
    "\n",
    "_, model_y = inv_transform(X, model_y)\n",
    "X, y = inv_transform(X, y)\n",
    "\n",
    "print(X.shape, y.shape, model_y.shape)\n",
    "fig, axes = plt.subplots(1, 3, figsize=(10, 5))\n",
    "\n",
    "axes[0].imshow(X, cmap='gray')\n",
    "axes[0].set_title('Input')\n",
    "\n",
    "axes[1].imshow(cv2.cvtColor(model_y, cv2.COLOR_BGR2RGB))\n",
    "axes[1].set_title('Output')\n",
    "\n",
    "axes[2].imshow(cv2.cvtColor(y, cv2.COLOR_BGR2RGB))\n",
    "axes[2].set_title('Ground truth')\n",
    "\n",
    "# Remove ticks and labels for a cleaner display\n",
    "for ax in axes:\n",
    "    ax.axis('off')\n",
    "\n",
    "# Show the plot\n",
    "plt.show()"
   ],
   "metadata": {
    "collapsed": false,
    "ExecuteTime": {
     "end_time": "2024-01-03T16:19:16.353131127Z",
     "start_time": "2024-01-03T16:19:12.924790894Z"
    }
   },
   "id": "e38bd6ef6aff952"
  },
  {
   "cell_type": "code",
   "execution_count": null,
   "outputs": [],
   "source": [
    "eval(model, LFWDataset(BASE_PATH, transforms=transform_generator(INPUT_SHAPE), download=False, split_name='test'))"
   ],
   "metadata": {
    "collapsed": false,
    "ExecuteTime": {
     "end_time": "2024-01-03T16:19:16.371719979Z",
     "start_time": "2024-01-03T16:19:16.356043204Z"
    }
   },
   "id": "d3f680494f32e892"
  },
  {
   "cell_type": "code",
   "execution_count": null,
   "outputs": [],
   "source": [
    "ds = LFWDataset(BASE_PATH, transforms=transform_generator(INPUT_SHAPE), split_name='validation', download=False)"
   ],
   "metadata": {
    "collapsed": false,
    "ExecuteTime": {
     "start_time": "2024-01-03T16:19:16.362321898Z"
    }
   },
   "id": "9e861649610571"
  },
  {
   "cell_type": "code",
   "execution_count": null,
   "outputs": [],
   "source": [
    "len(ds)"
   ],
   "metadata": {
    "collapsed": false,
    "ExecuteTime": {
     "start_time": "2024-01-03T16:04:34.218356652Z"
    }
   },
   "id": "c692ef262dd1eba1"
  },
  {
   "cell_type": "code",
   "execution_count": null,
   "outputs": [],
   "source": [
    "ds[2][1].shape"
   ],
   "metadata": {
    "collapsed": false,
    "ExecuteTime": {
     "start_time": "2024-01-03T16:04:34.218636863Z"
    }
   },
   "id": "d2572ef3ca1cfd09"
  },
  {
   "cell_type": "code",
   "execution_count": 7,
   "outputs": [],
   "source": [
    "model = torch.load(\"./artifacts/model.h5\", map_location=torch.device('cpu'))"
   ],
   "metadata": {
    "collapsed": false,
    "ExecuteTime": {
     "end_time": "2024-01-12T15:10:27.457980048Z",
     "start_time": "2024-01-12T15:10:27.433021599Z"
    }
   },
   "id": "71bcd2041b734321"
  },
  {
   "cell_type": "code",
   "execution_count": 8,
   "outputs": [
    {
     "ename": "RuntimeError",
     "evalue": "Can't redefine method: forward on class: __torch__.model.___torch_mangle_35.UNet (of Python compilation unit at: 0x5612afbe5980)",
     "output_type": "error",
     "traceback": [
      "\u001B[0;31m---------------------------------------------------------------------------\u001B[0m",
      "\u001B[0;31mRuntimeError\u001B[0m                              Traceback (most recent call last)",
      "Cell \u001B[0;32mIn[8], line 2\u001B[0m\n\u001B[1;32m      1\u001B[0m model\u001B[38;5;241m.\u001B[39meval()\n\u001B[0;32m----> 2\u001B[0m scripted_model \u001B[38;5;241m=\u001B[39m \u001B[43mtorch\u001B[49m\u001B[38;5;241;43m.\u001B[39;49m\u001B[43mjit\u001B[49m\u001B[38;5;241;43m.\u001B[39;49m\u001B[43mscript\u001B[49m\u001B[43m(\u001B[49m\u001B[43mmodel\u001B[49m\u001B[43m)\u001B[49m\n\u001B[1;32m      3\u001B[0m scripted_model\u001B[38;5;241m.\u001B[39msave(\u001B[38;5;124m\"\u001B[39m\u001B[38;5;124m./artifacts/scripted_model.pt\u001B[39m\u001B[38;5;124m\"\u001B[39m)\n",
      "File \u001B[0;32m~/anaconda3/envs/AI2/lib/python3.10/site-packages/torch/jit/_script.py:1284\u001B[0m, in \u001B[0;36mscript\u001B[0;34m(obj, optimize, _frames_up, _rcb, example_inputs)\u001B[0m\n\u001B[1;32m   1282\u001B[0m \u001B[38;5;28;01mif\u001B[39;00m \u001B[38;5;28misinstance\u001B[39m(obj, torch\u001B[38;5;241m.\u001B[39mnn\u001B[38;5;241m.\u001B[39mModule):\n\u001B[1;32m   1283\u001B[0m     obj \u001B[38;5;241m=\u001B[39m call_prepare_scriptable_func(obj)\n\u001B[0;32m-> 1284\u001B[0m     \u001B[38;5;28;01mreturn\u001B[39;00m \u001B[43mtorch\u001B[49m\u001B[38;5;241;43m.\u001B[39;49m\u001B[43mjit\u001B[49m\u001B[38;5;241;43m.\u001B[39;49m\u001B[43m_recursive\u001B[49m\u001B[38;5;241;43m.\u001B[39;49m\u001B[43mcreate_script_module\u001B[49m\u001B[43m(\u001B[49m\n\u001B[1;32m   1285\u001B[0m \u001B[43m        \u001B[49m\u001B[43mobj\u001B[49m\u001B[43m,\u001B[49m\u001B[43m \u001B[49m\u001B[43mtorch\u001B[49m\u001B[38;5;241;43m.\u001B[39;49m\u001B[43mjit\u001B[49m\u001B[38;5;241;43m.\u001B[39;49m\u001B[43m_recursive\u001B[49m\u001B[38;5;241;43m.\u001B[39;49m\u001B[43minfer_methods_to_compile\u001B[49m\n\u001B[1;32m   1286\u001B[0m \u001B[43m    \u001B[49m\u001B[43m)\u001B[49m\n\u001B[1;32m   1288\u001B[0m \u001B[38;5;28;01mif\u001B[39;00m \u001B[38;5;28misinstance\u001B[39m(obj, \u001B[38;5;28mdict\u001B[39m):\n\u001B[1;32m   1289\u001B[0m     \u001B[38;5;28;01mreturn\u001B[39;00m create_script_dict(obj)\n",
      "File \u001B[0;32m~/anaconda3/envs/AI2/lib/python3.10/site-packages/torch/jit/_recursive.py:480\u001B[0m, in \u001B[0;36mcreate_script_module\u001B[0;34m(nn_module, stubs_fn, share_types, is_tracing)\u001B[0m\n\u001B[1;32m    478\u001B[0m \u001B[38;5;28;01mif\u001B[39;00m \u001B[38;5;129;01mnot\u001B[39;00m is_tracing:\n\u001B[1;32m    479\u001B[0m     AttributeTypeIsSupportedChecker()\u001B[38;5;241m.\u001B[39mcheck(nn_module)\n\u001B[0;32m--> 480\u001B[0m \u001B[38;5;28;01mreturn\u001B[39;00m \u001B[43mcreate_script_module_impl\u001B[49m\u001B[43m(\u001B[49m\u001B[43mnn_module\u001B[49m\u001B[43m,\u001B[49m\u001B[43m \u001B[49m\u001B[43mconcrete_type\u001B[49m\u001B[43m,\u001B[49m\u001B[43m \u001B[49m\u001B[43mstubs_fn\u001B[49m\u001B[43m)\u001B[49m\n",
      "File \u001B[0;32m~/anaconda3/envs/AI2/lib/python3.10/site-packages/torch/jit/_recursive.py:546\u001B[0m, in \u001B[0;36mcreate_script_module_impl\u001B[0;34m(nn_module, concrete_type, stubs_fn)\u001B[0m\n\u001B[1;32m    544\u001B[0m \u001B[38;5;66;03m# Compile methods if necessary\u001B[39;00m\n\u001B[1;32m    545\u001B[0m \u001B[38;5;28;01mif\u001B[39;00m concrete_type \u001B[38;5;129;01mnot\u001B[39;00m \u001B[38;5;129;01min\u001B[39;00m concrete_type_store\u001B[38;5;241m.\u001B[39mmethods_compiled:\n\u001B[0;32m--> 546\u001B[0m     \u001B[43mcreate_methods_and_properties_from_stubs\u001B[49m\u001B[43m(\u001B[49m\u001B[43mconcrete_type\u001B[49m\u001B[43m,\u001B[49m\u001B[43m \u001B[49m\u001B[43mmethod_stubs\u001B[49m\u001B[43m,\u001B[49m\u001B[43m \u001B[49m\u001B[43mproperty_stubs\u001B[49m\u001B[43m)\u001B[49m\n\u001B[1;32m    547\u001B[0m     \u001B[38;5;66;03m# Create hooks after methods to ensure no name collisions between hooks and methods.\u001B[39;00m\n\u001B[1;32m    548\u001B[0m     \u001B[38;5;66;03m# If done before, hooks can overshadow methods that aren't exported.\u001B[39;00m\n\u001B[1;32m    549\u001B[0m     create_hooks_from_stubs(concrete_type, hook_stubs, pre_hook_stubs)\n",
      "File \u001B[0;32m~/anaconda3/envs/AI2/lib/python3.10/site-packages/torch/jit/_recursive.py:397\u001B[0m, in \u001B[0;36mcreate_methods_and_properties_from_stubs\u001B[0;34m(concrete_type, method_stubs, property_stubs)\u001B[0m\n\u001B[1;32m    394\u001B[0m property_defs \u001B[38;5;241m=\u001B[39m [p\u001B[38;5;241m.\u001B[39mdef_ \u001B[38;5;28;01mfor\u001B[39;00m p \u001B[38;5;129;01min\u001B[39;00m property_stubs]\n\u001B[1;32m    395\u001B[0m property_rcbs \u001B[38;5;241m=\u001B[39m [p\u001B[38;5;241m.\u001B[39mresolution_callback \u001B[38;5;28;01mfor\u001B[39;00m p \u001B[38;5;129;01min\u001B[39;00m property_stubs]\n\u001B[0;32m--> 397\u001B[0m \u001B[43mconcrete_type\u001B[49m\u001B[38;5;241;43m.\u001B[39;49m\u001B[43m_create_methods_and_properties\u001B[49m\u001B[43m(\u001B[49m\u001B[43mproperty_defs\u001B[49m\u001B[43m,\u001B[49m\u001B[43m \u001B[49m\u001B[43mproperty_rcbs\u001B[49m\u001B[43m,\u001B[49m\u001B[43m \u001B[49m\u001B[43mmethod_defs\u001B[49m\u001B[43m,\u001B[49m\u001B[43m \u001B[49m\u001B[43mmethod_rcbs\u001B[49m\u001B[43m,\u001B[49m\u001B[43m \u001B[49m\u001B[43mmethod_defaults\u001B[49m\u001B[43m)\u001B[49m\n",
      "\u001B[0;31mRuntimeError\u001B[0m: Can't redefine method: forward on class: __torch__.model.___torch_mangle_35.UNet (of Python compilation unit at: 0x5612afbe5980)"
     ]
    }
   ],
   "source": [
    "model.eval()\n",
    "scripted_model = torch.jit.script(model)\n",
    "scripted_model.save(\"./artifacts/scripted_model.pt\")"
   ],
   "metadata": {
    "collapsed": false,
    "ExecuteTime": {
     "end_time": "2024-01-12T15:10:27.861094492Z",
     "start_time": "2024-01-12T15:10:27.565018691Z"
    }
   },
   "id": "8cce2b6c077a79e8"
  },
  {
   "cell_type": "code",
   "execution_count": null,
   "outputs": [],
   "source": [],
   "metadata": {
    "collapsed": false
   },
   "id": "d960eaa6491bf52d"
  }
 ],
 "metadata": {
  "kernelspec": {
   "display_name": "Python 3",
   "language": "python",
   "name": "python3"
  },
  "language_info": {
   "codemirror_mode": {
    "name": "ipython",
    "version": 2
   },
   "file_extension": ".py",
   "mimetype": "text/x-python",
   "name": "python",
   "nbconvert_exporter": "python",
   "pygments_lexer": "ipython2",
   "version": "2.7.6"
  }
 },
 "nbformat": 4,
 "nbformat_minor": 5
}
