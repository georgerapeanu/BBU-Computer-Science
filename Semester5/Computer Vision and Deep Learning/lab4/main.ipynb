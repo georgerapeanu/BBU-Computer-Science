{
 "cells": [
  {
   "cell_type": "markdown",
   "source": [],
   "metadata": {
    "collapsed": false
   },
   "id": "1e925b6bbdc408aa"
  },
  {
   "cell_type": "code",
   "execution_count": 1,
   "outputs": [
    {
     "name": "stderr",
     "output_type": "stream",
     "text": [
      "/home/georgerapeanu/anaconda3/envs/AI2/lib/python3.10/site-packages/torchvision/datapoints/__init__.py:12: UserWarning: The torchvision.datapoints and torchvision.transforms.v2 namespaces are still Beta. While we do not expect major breaking changes, some APIs may still change according to user feedback. Please submit any feedback you may have in this issue: https://github.com/pytorch/vision/issues/6753, and you can also check out https://github.com/pytorch/vision/issues/7319 to learn more about the APIs that we suspect might involve future changes. You can silence this warning by calling torchvision.disable_beta_transforms_warning().\n",
      "  warnings.warn(_BETA_TRANSFORMS_WARNING)\n",
      "/home/georgerapeanu/anaconda3/envs/AI2/lib/python3.10/site-packages/torchvision/transforms/v2/__init__.py:54: UserWarning: The torchvision.datapoints and torchvision.transforms.v2 namespaces are still Beta. While we do not expect major breaking changes, some APIs may still change according to user feedback. Please submit any feedback you may have in this issue: https://github.com/pytorch/vision/issues/6753, and you can also check out https://github.com/pytorch/vision/issues/7319 to learn more about the APIs that we suspect might involve future changes. You can silence this warning by calling torchvision.disable_beta_transforms_warning().\n",
      "  warnings.warn(_BETA_TRANSFORMS_WARNING)\n"
     ]
    }
   ],
   "source": [
    "import torch.nn.functional\n",
    "\n",
    "from model import UNet\n",
    "from lfw_dataset import LFWDataset\n",
    "from torch.utils.data.dataloader import DataLoader\n",
    "import numpy as np\n",
    "from torchvision.transforms import v2\n",
    "import cv2\n",
    "import matplotlib.pyplot as plt\n",
    "from utils import transform_generator, inv_transform\n",
    "from copy import deepcopy\n",
    "import pickle\n",
    "from utils import eval\n",
    "from train import train\n",
    "import wandb"
   ],
   "metadata": {
    "collapsed": false,
    "ExecuteTime": {
     "end_time": "2024-01-11T14:20:37.188976784Z",
     "start_time": "2024-01-11T14:20:33.926125642Z"
    }
   },
   "id": "332284bc30e487"
  },
  {
   "cell_type": "code",
   "execution_count": 2,
   "outputs": [],
   "source": [
    "sweep_config = {\n",
    "    'method': 'random'\n",
    "    }\n",
    "metric = {\n",
    "    'name': 'val_loss',\n",
    "    'goal': 'minimize'   \n",
    "    }\n",
    "\n",
    "sweep_config['metric'] = metric\n",
    "\n",
    "parameters_dict = {\n",
    "    'NUM_EPOCHS': {\n",
    "        'values': [50]\n",
    "    },\n",
    "     'BATCH_SIZE': {\n",
    "        # integers between 32 and 256\n",
    "        # with evenly-distributed logarithms \n",
    "        'distribution': 'q_log_uniform_values',\n",
    "        'q': 8,\n",
    "        'min': 32,\n",
    "        'max': 256,\n",
    "      },\n",
    "    'INPUT_SHAPE': {\n",
    "        'values': [(64, 64)]\n",
    "    },\n",
    "    'NUM_LAYERS': {\n",
    "        'values': [1]\n",
    "    },\n",
    "    'LR': {\n",
    "        # a flat distribution between 0 and 0.1\n",
    "        'distribution': 'uniform',\n",
    "        'min': 0,\n",
    "        'max': 0.1\n",
    "      },\n",
    "}\n",
    "\n",
    "sweep_config['parameters'] = parameters_dict"
   ],
   "metadata": {
    "collapsed": false,
    "ExecuteTime": {
     "end_time": "2024-01-10T14:53:08.376103951Z",
     "start_time": "2024-01-10T14:53:08.369927212Z"
    }
   },
   "id": "5327707e87b8b25b"
  },
  {
   "cell_type": "code",
   "execution_count": 4,
   "outputs": [
    {
     "name": "stdout",
     "output_type": "stream",
     "text": [
      "Create sweep with ID: kxjbvahe\n",
      "Sweep URL: https://wandb.ai/georgerapeanu/cvdl/sweeps/kxjbvahe\n"
     ]
    }
   ],
   "source": [
    "sweep_id = wandb.sweep(sweep_config, project=\"cvdl\")"
   ],
   "metadata": {
    "collapsed": false,
    "ExecuteTime": {
     "end_time": "2024-01-10T14:00:24.864046268Z",
     "start_time": "2024-01-10T14:00:20.383056866Z"
    }
   },
   "id": "a1f70e21d7b2f1d3"
  },
  {
   "cell_type": "code",
   "execution_count": 5,
   "outputs": [],
   "source": [
    "def run_wandb():\n",
    "    with wandb.init():\n",
    "        train(None, wandb.config)"
   ],
   "metadata": {
    "collapsed": false,
    "ExecuteTime": {
     "end_time": "2024-01-10T14:00:24.864463041Z",
     "start_time": "2024-01-10T14:00:24.784049383Z"
    }
   },
   "id": "1de6070f3c99a7ff"
  },
  {
   "cell_type": "code",
   "execution_count": 6,
   "outputs": [
    {
     "name": "stderr",
     "output_type": "stream",
     "text": [
      "\u001B[34m\u001B[1mwandb\u001B[0m: Agent Starting Run: u01p0v9a with config:\n",
      "\u001B[34m\u001B[1mwandb\u001B[0m: \tBATCH_SIZE: 64\n",
      "\u001B[34m\u001B[1mwandb\u001B[0m: \tINPUT_SHAPE: [64, 64]\n",
      "\u001B[34m\u001B[1mwandb\u001B[0m: \tLR: 0.07475063534530223\n",
      "\u001B[34m\u001B[1mwandb\u001B[0m: \tNUM_EPOCHS: 50\n",
      "\u001B[34m\u001B[1mwandb\u001B[0m: \tNUM_LAYERS: 1\n",
      "\u001B[34m\u001B[1mwandb\u001B[0m: Currently logged in as: \u001B[33mgeorgerapeanu\u001B[0m. Use \u001B[1m`wandb login --relogin`\u001B[0m to force relogin\n"
     ]
    },
    {
     "data": {
      "text/plain": "<IPython.core.display.HTML object>",
      "text/html": "Tracking run with wandb version 0.16.0"
     },
     "metadata": {},
     "output_type": "display_data"
    },
    {
     "data": {
      "text/plain": "<IPython.core.display.HTML object>",
      "text/html": "Run data is saved locally in <code>/home/georgerapeanu/Desktop/BBU-Computer-Science/Semester5/Computer Vision and Deep Learning/lab4/wandb/run-20240110_160027-u01p0v9a</code>"
     },
     "metadata": {},
     "output_type": "display_data"
    },
    {
     "data": {
      "text/plain": "<IPython.core.display.HTML object>",
      "text/html": "Syncing run <strong><a href='https://wandb.ai/georgerapeanu/cvdl/runs/u01p0v9a' target=\"_blank\">good-sweep-1</a></strong> to <a href='https://wandb.ai/georgerapeanu/cvdl' target=\"_blank\">Weights & Biases</a> (<a href='https://wandb.me/run' target=\"_blank\">docs</a>)<br/>Sweep page: <a href='https://wandb.ai/georgerapeanu/cvdl/sweeps/kxjbvahe' target=\"_blank\">https://wandb.ai/georgerapeanu/cvdl/sweeps/kxjbvahe</a>"
     },
     "metadata": {},
     "output_type": "display_data"
    },
    {
     "data": {
      "text/plain": "<IPython.core.display.HTML object>",
      "text/html": " View project at <a href='https://wandb.ai/georgerapeanu/cvdl' target=\"_blank\">https://wandb.ai/georgerapeanu/cvdl</a>"
     },
     "metadata": {},
     "output_type": "display_data"
    },
    {
     "data": {
      "text/plain": "<IPython.core.display.HTML object>",
      "text/html": " View sweep at <a href='https://wandb.ai/georgerapeanu/cvdl/sweeps/kxjbvahe' target=\"_blank\">https://wandb.ai/georgerapeanu/cvdl/sweeps/kxjbvahe</a>"
     },
     "metadata": {},
     "output_type": "display_data"
    },
    {
     "data": {
      "text/plain": "<IPython.core.display.HTML object>",
      "text/html": " View run at <a href='https://wandb.ai/georgerapeanu/cvdl/runs/u01p0v9a' target=\"_blank\">https://wandb.ai/georgerapeanu/cvdl/runs/u01p0v9a</a>"
     },
     "metadata": {},
     "output_type": "display_data"
    },
    {
     "name": "stdout",
     "output_type": "stream",
     "text": [
      "Epoch [1/50], Train Loss: 83.3889, Validation Loss: 0.8304\n",
      "Epoch [2/50], Train Loss: 0.8305, Validation Loss: 0.8279\n",
      "Epoch [3/50], Train Loss: 0.8242, Validation Loss: 0.8245\n",
      "Epoch [4/50], Train Loss: 0.8232, Validation Loss: 0.8244\n",
      "Epoch [5/50], Train Loss: 0.8253, Validation Loss: 0.8237\n"
     ]
    },
    {
     "name": "stderr",
     "output_type": "stream",
     "text": [
      "\u001B[34m\u001B[1mwandb\u001B[0m: Ctrl + C detected. Stopping sweep.\n"
     ]
    }
   ],
   "source": [
    "wandb.agent(sweep_id, run_wandb, count=5)"
   ],
   "metadata": {
    "collapsed": false,
    "ExecuteTime": {
     "end_time": "2024-01-10T14:10:16.515171637Z",
     "start_time": "2024-01-10T14:00:24.792252162Z"
    }
   },
   "id": "b78ede3949e0e91"
  },
  {
   "cell_type": "code",
   "execution_count": 2,
   "outputs": [
    {
     "name": "stderr",
     "output_type": "stream",
     "text": [
      "\u001B[34m\u001B[1mwandb\u001B[0m: Currently logged in as: \u001B[33mgeorgerapeanu\u001B[0m. Use \u001B[1m`wandb login --relogin`\u001B[0m to force relogin\n"
     ]
    },
    {
     "data": {
      "text/plain": "<IPython.core.display.HTML object>",
      "text/html": "wandb version 0.16.2 is available!  To upgrade, please run:\n $ pip install wandb --upgrade"
     },
     "metadata": {},
     "output_type": "display_data"
    },
    {
     "data": {
      "text/plain": "<IPython.core.display.HTML object>",
      "text/html": "Tracking run with wandb version 0.16.0"
     },
     "metadata": {},
     "output_type": "display_data"
    },
    {
     "data": {
      "text/plain": "<IPython.core.display.HTML object>",
      "text/html": "Run data is saved locally in <code>/home/georgerapeanu/Desktop/BBU-Computer-Science/Semester5/Computer Vision and Deep Learning/lab4/wandb/run-20240111_162042-zgr9dqa3</code>"
     },
     "metadata": {},
     "output_type": "display_data"
    },
    {
     "data": {
      "text/plain": "<IPython.core.display.HTML object>",
      "text/html": "Syncing run <strong><a href='https://wandb.ai/georgerapeanu/cvdl/runs/zgr9dqa3' target=\"_blank\">restful-yogurt-119</a></strong> to <a href='https://wandb.ai/georgerapeanu/cvdl' target=\"_blank\">Weights & Biases</a> (<a href='https://wandb.me/run' target=\"_blank\">docs</a>)<br/>"
     },
     "metadata": {},
     "output_type": "display_data"
    },
    {
     "data": {
      "text/plain": "<IPython.core.display.HTML object>",
      "text/html": " View project at <a href='https://wandb.ai/georgerapeanu/cvdl' target=\"_blank\">https://wandb.ai/georgerapeanu/cvdl</a>"
     },
     "metadata": {},
     "output_type": "display_data"
    },
    {
     "data": {
      "text/plain": "<IPython.core.display.HTML object>",
      "text/html": " View run at <a href='https://wandb.ai/georgerapeanu/cvdl/runs/zgr9dqa3' target=\"_blank\">https://wandb.ai/georgerapeanu/cvdl/runs/zgr9dqa3</a>"
     },
     "metadata": {},
     "output_type": "display_data"
    },
    {
     "data": {
      "text/html": "<button onClick=\"this.nextSibling.style.display='block';this.style.display='none';\">Display W&B run</button><iframe src='https://wandb.ai/georgerapeanu/cvdl/runs/zgr9dqa3?jupyter=true' style='border:none;width:100%;height:420px;display:none;'></iframe>",
      "text/plain": "<wandb.sdk.wandb_run.Run at 0x7ffac5380d30>"
     },
     "execution_count": 2,
     "metadata": {},
     "output_type": "execute_result"
    }
   ],
   "source": [
    "wandb.init(\n",
    "    # set the wandb project where this run will be logged\n",
    "    project=\"cvdl\",\n",
    "    \n",
    "    # track hyperparameters and run metadata\n",
    "    config={\n",
    "        'NUM_EPOCHS': 10,\n",
    "        'BATCH_SIZE': 32,\n",
    "        'INPUT_SHAPE': (64, 64),\n",
    "        'NUM_LAYERS': 1,\n",
    "        'LR': 0.0713\n",
    "    }\n",
    ")\n"
   ],
   "metadata": {
    "collapsed": false,
    "ExecuteTime": {
     "end_time": "2024-01-11T14:20:48.051910930Z",
     "start_time": "2024-01-11T14:20:39.488526408Z"
    }
   },
   "id": "823785a40aba94f"
  },
  {
   "cell_type": "code",
   "execution_count": 3,
   "outputs": [
    {
     "data": {
      "text/plain": "{'NUM_EPOCHS': 10, 'BATCH_SIZE': 32, 'INPUT_SHAPE': [64, 64], 'NUM_LAYERS': 1, 'LR': 0.0713}"
     },
     "execution_count": 3,
     "metadata": {},
     "output_type": "execute_result"
    }
   ],
   "source": [
    "wandb.config\n"
   ],
   "metadata": {
    "collapsed": false,
    "ExecuteTime": {
     "end_time": "2024-01-11T14:20:48.085297833Z",
     "start_time": "2024-01-11T14:20:48.009571374Z"
    }
   },
   "id": "a209ed6c9e0101f4"
  },
  {
   "cell_type": "code",
   "execution_count": 4,
   "outputs": [],
   "source": [
    "NUM_EPOCHS = 100\n",
    "BATCH_SIZE= 128\n",
    "INPUT_SHAPE = (64, 64)\n",
    "NUM_LAYERS = 2\n",
    "LR = 0.01\n",
    "\n",
    "ARTIFACTS_PATH='./artifacts'\n",
    "BASE_PATH=\"./lfw_dataset\""
   ],
   "metadata": {
    "collapsed": false,
    "ExecuteTime": {
     "end_time": "2024-01-11T14:20:48.159448123Z",
     "start_time": "2024-01-11T14:20:48.026307077Z"
    }
   },
   "id": "dd344063706b1cd9"
  },
  {
   "cell_type": "code",
   "execution_count": 5,
   "outputs": [
    {
     "name": "stdout",
     "output_type": "stream",
     "text": [
      "Epoch [1/10], Train Loss: 0.7203, Validation Loss: 1.6032\n",
      "Epoch [2/10], Train Loss: 0.5678, Validation Loss: 0.9221\n",
      "Epoch [3/10], Train Loss: 0.5055, Validation Loss: 0.5436\n",
      "Epoch [4/10], Train Loss: 0.4451, Validation Loss: 0.5015\n",
      "Epoch [5/10], Train Loss: 0.4202, Validation Loss: 0.5892\n",
      "Epoch [6/10], Train Loss: 0.3807, Validation Loss: 0.5481\n",
      "Epoch [7/10], Train Loss: 0.3618, Validation Loss: 0.4245\n",
      "Epoch [8/10], Train Loss: 0.3465, Validation Loss: 0.3509\n",
      "Epoch [9/10], Train Loss: 0.3230, Validation Loss: 0.3318\n",
      "Epoch [10/10], Train Loss: 0.3040, Validation Loss: 0.3253\n"
     ]
    },
    {
     "data": {
      "text/plain": "(UNet(\n   (in_conv): DoubleConv(\n     (double_conv): Sequential(\n       (0): Conv2d(1, 64, kernel_size=(3, 3), stride=(1, 1))\n       (1): BatchNorm2d(64, eps=1e-05, momentum=0.1, affine=True, track_running_stats=True)\n       (2): ReLU(inplace=True)\n       (3): Conv2d(64, 64, kernel_size=(3, 3), stride=(1, 1))\n       (4): BatchNorm2d(64, eps=1e-05, momentum=0.1, affine=True, track_running_stats=True)\n       (5): ReLU(inplace=True)\n     )\n   )\n   (encoders): ModuleList(\n     (0): EncoderBlock(\n       (encoder): Sequential(\n         (0): MaxPool2d(kernel_size=2, stride=2, padding=0, dilation=1, ceil_mode=False)\n         (1): DoubleConv(\n           (double_conv): Sequential(\n             (0): Conv2d(64, 128, kernel_size=(3, 3), stride=(1, 1))\n             (1): BatchNorm2d(128, eps=1e-05, momentum=0.1, affine=True, track_running_stats=True)\n             (2): ReLU(inplace=True)\n             (3): Conv2d(128, 128, kernel_size=(3, 3), stride=(1, 1))\n             (4): BatchNorm2d(128, eps=1e-05, momentum=0.1, affine=True, track_running_stats=True)\n             (5): ReLU(inplace=True)\n           )\n         )\n       )\n     )\n   )\n   (decoders): ModuleList(\n     (0): DecoderBlock(\n       (up): Sequential(\n         (0): ConvTranspose2d(128, 64, kernel_size=(2, 2), stride=(2, 2))\n         (1): BatchNorm2d(64, eps=1e-05, momentum=0.1, affine=True, track_running_stats=True)\n         (2): ReLU(inplace=True)\n       )\n       (double_conv): DoubleConv(\n         (double_conv): Sequential(\n           (0): Conv2d(128, 64, kernel_size=(3, 3), stride=(1, 1))\n           (1): BatchNorm2d(64, eps=1e-05, momentum=0.1, affine=True, track_running_stats=True)\n           (2): ReLU(inplace=True)\n           (3): Conv2d(64, 64, kernel_size=(3, 3), stride=(1, 1))\n           (4): BatchNorm2d(64, eps=1e-05, momentum=0.1, affine=True, track_running_stats=True)\n           (5): ReLU(inplace=True)\n         )\n       )\n     )\n   )\n   (out_conv): Conv2d(64, 3, kernel_size=(1, 1), stride=(1, 1))\n ),\n {'train': [0.7203441909018983,\n   0.5678294465896931,\n   0.5054575756509253,\n   0.445114570095184,\n   0.4202170803191814,\n   0.3807179293733962,\n   0.36183309872099695,\n   0.3465371480647554,\n   0.3229512420106441,\n   0.3039532183332646],\n  'validation': [1.6031960546970367,\n   0.9220721535384655,\n   0.5436195954680443,\n   0.501517616212368,\n   0.5891862437129021,\n   0.5481137149035931,\n   0.4244648702442646,\n   0.3509374279528856,\n   0.33184419572353363,\n   0.32528303377330303]})"
     },
     "execution_count": 5,
     "metadata": {},
     "output_type": "execute_result"
    }
   ],
   "source": [
    "train(None, wandb.config)"
   ],
   "metadata": {
    "collapsed": false,
    "ExecuteTime": {
     "end_time": "2024-01-11T14:35:13.336074262Z",
     "start_time": "2024-01-11T14:20:48.042182829Z"
    }
   },
   "id": "19e72edffb7a25b2"
  },
  {
   "cell_type": "code",
   "execution_count": 6,
   "outputs": [
    {
     "data": {
      "text/plain": "<IPython.core.display.HTML object>",
      "text/html": "W&B sync reduced upload amount by 36.0%             "
     },
     "metadata": {},
     "output_type": "display_data"
    },
    {
     "data": {
      "text/plain": "<IPython.core.display.HTML object>",
      "text/html": "<style>\n    table.wandb td:nth-child(1) { padding: 0 10px; text-align: left ; width: auto;} td:nth-child(2) {text-align: left ; width: 100%}\n    .wandb-row { display: flex; flex-direction: row; flex-wrap: wrap; justify-content: flex-start; width: 100% }\n    .wandb-col { display: flex; flex-direction: column; flex-basis: 100%; flex: 1; padding: 10px; }\n    </style>\n<div class=\"wandb-row\"><div class=\"wandb-col\"><h3>Run history:</h3><br/><table class=\"wandb\"><tr><td>fw_intersection_over_union</td><td>▁▁▅▆▄▅▇███</td></tr><tr><td>mean_intersection_over_union</td><td>▁▂▄▆▄▄▆███</td></tr><tr><td>mean_pixel_accuracy</td><td>▁▃▅▆▃▃▆▇██</td></tr><tr><td>train_loss</td><td>█▅▄▃▃▂▂▂▁▁</td></tr><tr><td>val_loss</td><td>█▄▂▂▂▂▂▁▁▁</td></tr></table><br/></div><div class=\"wandb-col\"><h3>Run summary:</h3><br/><table class=\"wandb\"><tr><td>fw_intersection_over_union</td><td>0.78398</td></tr><tr><td>mean_intersection_over_union</td><td>0.67025</td></tr><tr><td>mean_pixel_accuracy</td><td>0.78504</td></tr><tr><td>train_loss</td><td>0.30395</td></tr><tr><td>val_loss</td><td>0.32528</td></tr></table><br/></div></div>"
     },
     "metadata": {},
     "output_type": "display_data"
    },
    {
     "data": {
      "text/plain": "<IPython.core.display.HTML object>",
      "text/html": " View run <strong style=\"color:#cdcd00\">restful-yogurt-119</strong> at: <a href='https://wandb.ai/georgerapeanu/cvdl/runs/zgr9dqa3' target=\"_blank\">https://wandb.ai/georgerapeanu/cvdl/runs/zgr9dqa3</a><br/> View job at <a href='https://wandb.ai/georgerapeanu/cvdl/jobs/QXJ0aWZhY3RDb2xsZWN0aW9uOjEyNzE1MzQxMg==/version_details/v5' target=\"_blank\">https://wandb.ai/georgerapeanu/cvdl/jobs/QXJ0aWZhY3RDb2xsZWN0aW9uOjEyNzE1MzQxMg==/version_details/v5</a><br/>Synced 6 W&B file(s), 10 media file(s), 15016 artifact file(s) and 0 other file(s)"
     },
     "metadata": {},
     "output_type": "display_data"
    },
    {
     "data": {
      "text/plain": "<IPython.core.display.HTML object>",
      "text/html": "Find logs at: <code>./wandb/run-20240111_162042-zgr9dqa3/logs</code>"
     },
     "metadata": {},
     "output_type": "display_data"
    }
   ],
   "source": [
    "wandb.finish()"
   ],
   "metadata": {
    "collapsed": false,
    "ExecuteTime": {
     "end_time": "2024-01-11T14:35:19.122979234Z",
     "start_time": "2024-01-11T14:35:13.305810475Z"
    }
   },
   "id": "7d2fb092bc62811"
  },
  {
   "cell_type": "code",
   "execution_count": 7,
   "outputs": [
    {
     "ename": "KeyboardInterrupt",
     "evalue": "",
     "output_type": "error",
     "traceback": [
      "\u001B[0;31m---------------------------------------------------------------------------\u001B[0m",
      "\u001B[0;31mKeyboardInterrupt\u001B[0m                         Traceback (most recent call last)",
      "Cell \u001B[0;32mIn[7], line 1\u001B[0m\n\u001B[0;32m----> 1\u001B[0m ds \u001B[38;5;241m=\u001B[39m \u001B[43mLFWDataset\u001B[49m\u001B[43m(\u001B[49m\u001B[43mBASE_PATH\u001B[49m\u001B[43m,\u001B[49m\u001B[43m \u001B[49m\u001B[43mtransforms\u001B[49m\u001B[38;5;241;43m=\u001B[39;49m\u001B[43mtransform_generator\u001B[49m\u001B[43m(\u001B[49m\u001B[43mINPUT_SHAPE\u001B[49m\u001B[43m)\u001B[49m\u001B[43m,\u001B[49m\u001B[43m \u001B[49m\u001B[43msplit_name\u001B[49m\u001B[38;5;241;43m=\u001B[39;49m\u001B[38;5;124;43m'\u001B[39;49m\u001B[38;5;124;43mtest\u001B[39;49m\u001B[38;5;124;43m'\u001B[39;49m\u001B[43m,\u001B[49m\u001B[43m \u001B[49m\u001B[43mdownload\u001B[49m\u001B[38;5;241;43m=\u001B[39;49m\u001B[38;5;28;43;01mFalse\u001B[39;49;00m\u001B[43m)\u001B[49m\n\u001B[1;32m      2\u001B[0m model\u001B[38;5;241m.\u001B[39meval()\n\u001B[1;32m      4\u001B[0m X, y \u001B[38;5;241m=\u001B[39m ds[\u001B[38;5;241m2\u001B[39m]\n",
      "File \u001B[0;32m~/Desktop/BBU-Computer-Science/Semester5/Computer Vision and Deep Learning/lab4/lfw_dataset.py:40\u001B[0m, in \u001B[0;36mLFWDataset.__init__\u001B[0;34m(self, base_folder, transforms, download, split_name)\u001B[0m\n\u001B[1;32m     38\u001B[0m raw_file_path \u001B[38;5;241m=\u001B[39m \u001B[38;5;124mf\u001B[39m\u001B[38;5;124m\"\u001B[39m\u001B[38;5;132;01m{\u001B[39;00mbase_folder\u001B[38;5;132;01m}\u001B[39;00m\u001B[38;5;124m/lfw_funneled/\u001B[39m\u001B[38;5;132;01m{\u001B[39;00mname\u001B[38;5;132;01m}\u001B[39;00m\u001B[38;5;124m/\u001B[39m\u001B[38;5;132;01m{\u001B[39;00mname\u001B[38;5;132;01m}\u001B[39;00m\u001B[38;5;124m_\u001B[39m\u001B[38;5;132;01m{\u001B[39;00mnumber\u001B[38;5;132;01m}\u001B[39;00m\u001B[38;5;124m.jpg\u001B[39m\u001B[38;5;124m\"\u001B[39m\n\u001B[1;32m     39\u001B[0m feature_file_path \u001B[38;5;241m=\u001B[39m \u001B[38;5;124mf\u001B[39m\u001B[38;5;124m\"\u001B[39m\u001B[38;5;132;01m{\u001B[39;00mbase_folder\u001B[38;5;132;01m}\u001B[39;00m\u001B[38;5;124m/parts_lfw_funneled_gt_images/\u001B[39m\u001B[38;5;132;01m{\u001B[39;00mname\u001B[38;5;132;01m}\u001B[39;00m\u001B[38;5;124m_\u001B[39m\u001B[38;5;132;01m{\u001B[39;00mnumber\u001B[38;5;132;01m}\u001B[39;00m\u001B[38;5;124m.ppm\u001B[39m\u001B[38;5;124m\"\u001B[39m\n\u001B[0;32m---> 40\u001B[0m \u001B[38;5;28mself\u001B[39m\u001B[38;5;241m.\u001B[39mX\u001B[38;5;241m.\u001B[39mappend(\u001B[43mcv2\u001B[49m\u001B[38;5;241;43m.\u001B[39;49m\u001B[43mimread\u001B[49m\u001B[43m(\u001B[49m\u001B[43mraw_file_path\u001B[49m\u001B[43m)\u001B[49m)\n\u001B[1;32m     41\u001B[0m \u001B[38;5;28mself\u001B[39m\u001B[38;5;241m.\u001B[39mY\u001B[38;5;241m.\u001B[39mappend(cv2\u001B[38;5;241m.\u001B[39mcvtColor(np\u001B[38;5;241m.\u001B[39marray(Image\u001B[38;5;241m.\u001B[39mopen(feature_file_path)), cv2\u001B[38;5;241m.\u001B[39mCOLOR_RGB2BGR))\n\u001B[1;32m     43\u001B[0m \u001B[38;5;28;01mif\u001B[39;00m transforms \u001B[38;5;129;01mis\u001B[39;00m \u001B[38;5;129;01mnot\u001B[39;00m \u001B[38;5;28;01mNone\u001B[39;00m :\n",
      "\u001B[0;31mKeyboardInterrupt\u001B[0m: "
     ]
    }
   ],
   "source": [
    "ds = LFWDataset(BASE_PATH, transforms=transform_generator(INPUT_SHAPE), split_name='test', download=False)\n",
    "model.eval()\n",
    "\n",
    "X, y = ds[2]\n",
    "model_y = model(X.view(-1, *X.shape))\n",
    "model_y = torch.nn.functional.interpolate(model_y, size=tuple(y.shape))\n",
    "model_y = model_y.view(-1, *y.shape).argmax(dim=0)\n",
    "\n",
    "_, model_y = inv_transform(X, model_y)\n",
    "X, y = inv_transform(X, y)\n",
    "\n",
    "print(X.shape, y.shape, model_y.shape)\n",
    "fig, axes = plt.subplots(1, 3, figsize=(10, 5))\n",
    "\n",
    "axes[0].imshow(X, cmap='gray')\n",
    "axes[0].set_title('Input')\n",
    "\n",
    "axes[1].imshow(cv2.cvtColor(model_y, cv2.COLOR_BGR2RGB))\n",
    "axes[1].set_title('Output')\n",
    "\n",
    "axes[2].imshow(cv2.cvtColor(y, cv2.COLOR_BGR2RGB))\n",
    "axes[2].set_title('Ground truth')\n",
    "\n",
    "# Remove ticks and labels for a cleaner display\n",
    "for ax in axes:\n",
    "    ax.axis('off')\n",
    "\n",
    "# Show the plot\n",
    "plt.show()"
   ],
   "metadata": {
    "collapsed": false,
    "ExecuteTime": {
     "end_time": "2024-01-03T16:19:16.353131127Z",
     "start_time": "2024-01-03T16:19:12.924790894Z"
    }
   },
   "id": "e38bd6ef6aff952"
  },
  {
   "cell_type": "code",
   "execution_count": null,
   "outputs": [],
   "source": [
    "eval(model, LFWDataset(BASE_PATH, transforms=transform_generator(INPUT_SHAPE), download=False, split_name='test'))"
   ],
   "metadata": {
    "collapsed": false,
    "ExecuteTime": {
     "end_time": "2024-01-03T16:19:16.371719979Z",
     "start_time": "2024-01-03T16:19:16.356043204Z"
    }
   },
   "id": "d3f680494f32e892"
  },
  {
   "cell_type": "code",
   "execution_count": null,
   "outputs": [],
   "source": [
    "ds = LFWDataset(BASE_PATH, transforms=transform_generator(INPUT_SHAPE), split_name='validation', download=False)"
   ],
   "metadata": {
    "collapsed": false,
    "ExecuteTime": {
     "start_time": "2024-01-03T16:19:16.362321898Z"
    }
   },
   "id": "9e861649610571"
  },
  {
   "cell_type": "code",
   "execution_count": null,
   "outputs": [],
   "source": [
    "len(ds)"
   ],
   "metadata": {
    "collapsed": false,
    "ExecuteTime": {
     "start_time": "2024-01-03T16:04:34.218356652Z"
    }
   },
   "id": "c692ef262dd1eba1"
  },
  {
   "cell_type": "code",
   "execution_count": null,
   "outputs": [],
   "source": [
    "ds[2][1].shape"
   ],
   "metadata": {
    "collapsed": false,
    "ExecuteTime": {
     "start_time": "2024-01-03T16:04:34.218636863Z"
    }
   },
   "id": "d2572ef3ca1cfd09"
  },
  {
   "cell_type": "code",
   "execution_count": null,
   "outputs": [],
   "source": [],
   "metadata": {
    "collapsed": false,
    "ExecuteTime": {
     "start_time": "2024-01-03T16:04:34.218915680Z"
    }
   },
   "id": "f36944ff016f6c73"
  }
 ],
 "metadata": {
  "kernelspec": {
   "display_name": "Python 3",
   "language": "python",
   "name": "python3"
  },
  "language_info": {
   "codemirror_mode": {
    "name": "ipython",
    "version": 2
   },
   "file_extension": ".py",
   "mimetype": "text/x-python",
   "name": "python",
   "nbconvert_exporter": "python",
   "pygments_lexer": "ipython2",
   "version": "2.7.6"
  }
 },
 "nbformat": 4,
 "nbformat_minor": 5
}
